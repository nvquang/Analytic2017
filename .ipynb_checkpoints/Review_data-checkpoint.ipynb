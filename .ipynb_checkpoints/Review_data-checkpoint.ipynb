{
 "cells": [
  {
   "cell_type": "code",
   "execution_count": 1,
   "metadata": {
    "collapsed": false,
    "deletable": true,
    "editable": true
   },
   "outputs": [],
   "source": [
    "import pandas as pd\n",
    "import numpy as np\n",
    "import matplotlib.pyplot as plt\n",
    "%matplotlib inline"
   ]
  },
  {
   "cell_type": "code",
   "execution_count": 2,
   "metadata": {
    "collapsed": false,
    "deletable": true,
    "editable": true
   },
   "outputs": [],
   "source": [
    "train_df = pd.read_csv(\"data/training/data_train.csv\", dtype='unicode')"
   ]
  },
  {
   "cell_type": "code",
   "execution_count": 3,
   "metadata": {
    "collapsed": false,
    "deletable": true,
    "editable": true
   },
   "outputs": [],
   "source": [
    "train_df['title_len'] = train_df['title'].str.len()"
   ]
  },
  {
   "cell_type": "code",
   "execution_count": 9,
   "metadata": {
    "collapsed": false
   },
   "outputs": [
    {
     "data": {
      "text/html": [
       "<div>\n",
       "<table border=\"1\" class=\"dataframe\">\n",
       "  <thead>\n",
       "    <tr style=\"text-align: right;\">\n",
       "      <th></th>\n",
       "      <th>country</th>\n",
       "      <th>sku_id</th>\n",
       "      <th>title</th>\n",
       "      <th>category_lvl_1</th>\n",
       "      <th>category_lvl_2</th>\n",
       "      <th>category_lvl_3</th>\n",
       "      <th>short_description</th>\n",
       "      <th>price</th>\n",
       "      <th>product_type</th>\n",
       "      <th>clarity</th>\n",
       "      <th>conciseness</th>\n",
       "      <th>title_len</th>\n",
       "    </tr>\n",
       "  </thead>\n",
       "  <tbody>\n",
       "    <tr>\n",
       "      <th>0</th>\n",
       "      <td>my</td>\n",
       "      <td>AD674FAASTLXANMY</td>\n",
       "      <td>Adana Gallery Suri Square Hijab – Light Pink</td>\n",
       "      <td>Fashion</td>\n",
       "      <td>Women</td>\n",
       "      <td>Muslim Wear</td>\n",
       "      <td>&lt;ul&gt;&lt;li&gt;Material : Non sheer shimmer chiffon&lt;/...</td>\n",
       "      <td>49</td>\n",
       "      <td>local</td>\n",
       "      <td>1</td>\n",
       "      <td>1</td>\n",
       "      <td>44</td>\n",
       "    </tr>\n",
       "    <tr>\n",
       "      <th>1</th>\n",
       "      <td>my</td>\n",
       "      <td>AE068HBAA3RPRDANMY</td>\n",
       "      <td>Cuba Heartbreaker Eau De Parfum Spray 100ml/3.3oz</td>\n",
       "      <td>Health &amp; Beauty</td>\n",
       "      <td>Bath &amp; Body</td>\n",
       "      <td>Hand &amp; Foot Care</td>\n",
       "      <td>Formulated with oil-free hydrating botanicals/...</td>\n",
       "      <td>128</td>\n",
       "      <td>international</td>\n",
       "      <td>1</td>\n",
       "      <td>1</td>\n",
       "      <td>49</td>\n",
       "    </tr>\n",
       "  </tbody>\n",
       "</table>\n",
       "</div>"
      ],
      "text/plain": [
       "  country              sku_id  \\\n",
       "0      my    AD674FAASTLXANMY   \n",
       "1      my  AE068HBAA3RPRDANMY   \n",
       "\n",
       "                                               title   category_lvl_1  \\\n",
       "0       Adana Gallery Suri Square Hijab – Light Pink          Fashion   \n",
       "1  Cuba Heartbreaker Eau De Parfum Spray 100ml/3.3oz  Health & Beauty   \n",
       "\n",
       "  category_lvl_2    category_lvl_3  \\\n",
       "0          Women       Muslim Wear   \n",
       "1    Bath & Body  Hand & Foot Care   \n",
       "\n",
       "                                   short_description price   product_type  \\\n",
       "0  <ul><li>Material : Non sheer shimmer chiffon</...    49          local   \n",
       "1  Formulated with oil-free hydrating botanicals/...   128  international   \n",
       "\n",
       "  clarity conciseness  title_len  \n",
       "0       1           1         44  \n",
       "1       1           1         49  "
      ]
     },
     "execution_count": 9,
     "metadata": {},
     "output_type": "execute_result"
    }
   ],
   "source": [
    "train_df.head(2)"
   ]
  },
  {
   "cell_type": "code",
   "execution_count": 10,
   "metadata": {
    "collapsed": false,
    "deletable": true,
    "editable": true
   },
   "outputs": [
    {
     "data": {
      "text/plain": [
       "86.556690997566903"
      ]
     },
     "execution_count": 10,
     "metadata": {},
     "output_type": "execute_result"
    }
   ],
   "source": [
    "np.average((train_df[train_df.clarity == '0']).title_len)"
   ]
  },
  {
   "cell_type": "code",
   "execution_count": 11,
   "metadata": {
    "collapsed": false,
    "deletable": true,
    "editable": true
   },
   "outputs": [
    {
     "data": {
      "text/plain": [
       "74.558899146897275"
      ]
     },
     "execution_count": 11,
     "metadata": {},
     "output_type": "execute_result"
    }
   ],
   "source": [
    "np.average((train_df[train_df.clarity == '1']).title_len)"
   ]
  },
  {
   "cell_type": "code",
   "execution_count": 12,
   "metadata": {
    "collapsed": false
   },
   "outputs": [
    {
     "data": {
      "text/plain": [
       "75.238431221233085"
      ]
     },
     "execution_count": 12,
     "metadata": {},
     "output_type": "execute_result"
    }
   ],
   "source": [
    "np.average(train_df.title_len)"
   ]
  },
  {
   "cell_type": "code",
   "execution_count": 13,
   "metadata": {
    "collapsed": false
   },
   "outputs": [
    {
     "data": {
      "text/plain": [
       "36283"
      ]
     },
     "execution_count": 13,
     "metadata": {},
     "output_type": "execute_result"
    }
   ],
   "source": [
    "len(train_df)"
   ]
  },
  {
   "cell_type": "code",
   "execution_count": 14,
   "metadata": {
    "collapsed": false
   },
   "outputs": [
    {
     "data": {
      "text/plain": [
       "2055"
      ]
     },
     "execution_count": 14,
     "metadata": {},
     "output_type": "execute_result"
    }
   ],
   "source": [
    "len((train_df[train_df.clarity == '0']))"
   ]
  },
  {
   "cell_type": "code",
   "execution_count": 15,
   "metadata": {
    "collapsed": false
   },
   "outputs": [
    {
     "data": {
      "text/plain": [
       "34228"
      ]
     },
     "execution_count": 15,
     "metadata": {},
     "output_type": "execute_result"
    }
   ],
   "source": [
    "len((train_df[train_df.clarity == '1']))"
   ]
  },
  {
   "cell_type": "code",
   "execution_count": 16,
   "metadata": {
    "collapsed": false
   },
   "outputs": [
    {
     "name": "stdout",
     "output_type": "stream",
     "text": [
      "2055\n"
     ]
    }
   ],
   "source": [
    "un_clarify_df = train_df[train_df.clarity == '0']\n",
    "print(len(un_clarify_df))"
   ]
  },
  {
   "cell_type": "code",
   "execution_count": 17,
   "metadata": {
    "collapsed": false
   },
   "outputs": [
    {
     "data": {
      "text/plain": [
       "category_lvl_1\n",
       "Cameras                                    10\n",
       "Computers & Laptops                        29\n",
       "Fashion                                  1097\n",
       "Health & Beauty                           160\n",
       "Home & Living                             245\n",
       "Home Appliances                             7\n",
       "Mobiles & Tablets                          38\n",
       "TV, Audio / Video, Gaming & Wearables      16\n",
       "Watches Sunglasses Jewellery              453\n",
       "Name: clarity, dtype: int64"
      ]
     },
     "execution_count": 17,
     "metadata": {},
     "output_type": "execute_result"
    }
   ],
   "source": [
    "un_clarify_df.groupby(['category_lvl_1'])['clarity'].count()"
   ]
  },
  {
   "cell_type": "code",
   "execution_count": 18,
   "metadata": {
    "collapsed": false
   },
   "outputs": [
    {
     "name": "stdout",
     "output_type": "stream",
     "text": [
      "34228\n"
     ]
    },
    {
     "data": {
      "text/plain": [
       "category_lvl_1\n",
       "Cameras                                  1942\n",
       "Computers & Laptops                      2896\n",
       "Fashion                                  4632\n",
       "Health & Beauty                          3880\n",
       "Home & Living                            5803\n",
       "Home Appliances                          1578\n",
       "Mobiles & Tablets                        7239\n",
       "TV, Audio / Video, Gaming & Wearables    2495\n",
       "Watches Sunglasses Jewellery             3763\n",
       "Name: clarity, dtype: int64"
      ]
     },
     "execution_count": 18,
     "metadata": {},
     "output_type": "execute_result"
    }
   ],
   "source": [
    "clarify_df = train_df[train_df.clarity == '1']\n",
    "print(len(clarify_df))\n",
    "clarify_df.groupby(['category_lvl_1'])['clarity'].count()"
   ]
  },
  {
   "cell_type": "code",
   "execution_count": 19,
   "metadata": {
    "collapsed": false
   },
   "outputs": [
    {
     "data": {
      "image/png": "[encoded data removed]",
      "text/plain": [
       "<matplotlib.figure.Figure at 0x8cd1a58>"
      ]
     },
     "metadata": {},
     "output_type": "display_data"
    }
   ],
   "source": [
    "clarify_df['title_len'].hist(bins=50)\n",
    "plt.show()"
   ]
  },
  {
   "cell_type": "code",
   "execution_count": 20,
   "metadata": {
    "collapsed": false
   },
   "outputs": [
    {
     "data": {
      "image/png": "[encoded data removed]",
      "text/plain": [
       "<matplotlib.figure.Figure at 0x8d5c438>"
      ]
     },
     "metadata": {},
     "output_type": "display_data"
    }
   ],
   "source": [
    "un_clarify_df['title_len'].hist(bins=50)\n",
    "plt.show()"
   ]
  },
  {
   "cell_type": "code",
   "execution_count": 51,
   "metadata": {
    "collapsed": false
   },
   "outputs": [
    {
     "data": {
      "image/png": "[encoded data removed]",
      "text/plain": [
       "<matplotlib.figure.Figure at 0x9118400>"
      ]
     },
     "metadata": {},
     "output_type": "display_data"
    },
    {
     "data": {
      "image/png": "[encoded data removed]",
      "text/plain": [
       "<matplotlib.figure.Figure at 0x90b8128>"
      ]
     },
     "metadata": {},
     "output_type": "display_data"
    }
   ],
   "source": [
    "fashion_df = train_df[train_df['category_lvl_1'] == 'Fashion']\n",
    "un_clar_fashion_df = fashion_df[fashion_df.clarity == '0']\n",
    "clar_fashion_df = fashion_df[fashion_df['clarity'] == '1']\n",
    "un_conc_fashion_df = fashion_df[fashion_df.conciseness == '0']\n",
    "conc_fashion_df = fashion_df[fashion_df.conciseness == '1']\n",
    "\n",
    "clar_fashion_df['title_len'].hist(bins=50,color='green')\n",
    "un_clar_fashion_df['title_len'].hist(bins=50, color='red')\n",
    "plt.show()\n",
    "\n",
    "un_conc_fashion_df['title_len'].hist(bins=50,color='red')\n",
    "conc_fashion_df['title_len'].hist(bins=50,color='green')\n",
    "plt.show()"
   ]
  },
  {
   "cell_type": "code",
   "execution_count": 37,
   "metadata": {
    "collapsed": false
   },
   "outputs": [
    {
     "data": {
      "text/html": [
       "<div>\n",
       "<table border=\"1\" class=\"dataframe\">\n",
       "  <thead>\n",
       "    <tr style=\"text-align: right;\">\n",
       "      <th></th>\n",
       "      <th>country</th>\n",
       "      <th>sku_id</th>\n",
       "      <th>title</th>\n",
       "      <th>category_lvl_1</th>\n",
       "      <th>category_lvl_2</th>\n",
       "      <th>category_lvl_3</th>\n",
       "      <th>short_description</th>\n",
       "      <th>price</th>\n",
       "      <th>product_type</th>\n",
       "      <th>clarity</th>\n",
       "      <th>conciseness</th>\n",
       "      <th>title_len</th>\n",
       "    </tr>\n",
       "  </thead>\n",
       "  <tbody>\n",
       "    <tr>\n",
       "      <th>41</th>\n",
       "      <td>my</td>\n",
       "      <td>NO037FAAA60MKQANMY</td>\n",
       "      <td>2016 New Arrive Women Four Seasons Flats Casua...</td>\n",
       "      <td>Fashion</td>\n",
       "      <td>Women</td>\n",
       "      <td>Shoes</td>\n",
       "      <td>&lt;ul&gt; &lt;li&gt;2016 women genuine leather flats shoe...</td>\n",
       "      <td>50</td>\n",
       "      <td>international</td>\n",
       "      <td>0</td>\n",
       "      <td>0</td>\n",
       "      <td>129</td>\n",
       "    </tr>\n",
       "    <tr>\n",
       "      <th>43</th>\n",
       "      <td>my</td>\n",
       "      <td>NO037FAAA8CLZ2ANMY</td>\n",
       "      <td>RUDY Dress</td>\n",
       "      <td>Fashion</td>\n",
       "      <td>Women</td>\n",
       "      <td>Clothing</td>\n",
       "      <td>&lt;ul&gt; &lt;li&gt;Short Sleeve&lt;/li&gt; &lt;li&gt;3 Colours 8 Siz...</td>\n",
       "      <td>33</td>\n",
       "      <td>local</td>\n",
       "      <td>0</td>\n",
       "      <td>0</td>\n",
       "      <td>10</td>\n",
       "    </tr>\n",
       "  </tbody>\n",
       "</table>\n",
       "</div>"
      ],
      "text/plain": [
       "   country              sku_id  \\\n",
       "41      my  NO037FAAA60MKQANMY   \n",
       "43      my  NO037FAAA8CLZ2ANMY   \n",
       "\n",
       "                                                title category_lvl_1  \\\n",
       "41  2016 New Arrive Women Four Seasons Flats Casua...        Fashion   \n",
       "43                                         RUDY Dress        Fashion   \n",
       "\n",
       "   category_lvl_2 category_lvl_3  \\\n",
       "41          Women          Shoes   \n",
       "43          Women       Clothing   \n",
       "\n",
       "                                    short_description price   product_type  \\\n",
       "41  <ul> <li>2016 women genuine leather flats shoe...    50  international   \n",
       "43  <ul> <li>Short Sleeve</li> <li>3 Colours 8 Siz...    33          local   \n",
       "\n",
       "   clarity conciseness  title_len  \n",
       "41       0           0        129  \n",
       "43       0           0         10  "
      ]
     },
     "execution_count": 37,
     "metadata": {},
     "output_type": "execute_result"
    }
   ],
   "source": [
    "un_clar_fashion_df.head(2)"
   ]
  },
  {
   "cell_type": "code",
   "execution_count": 72,
   "metadata": {
    "collapsed": true
   },
   "outputs": [],
   "source": [
    "#unify a list\n",
    "def uniqList(list1):\n",
    "    list2=[]\n",
    "    for i in list1:\n",
    "        if i not in list2:\n",
    "            list2.append(i)\n",
    "    return list2"
   ]
  },
  {
   "cell_type": "code",
   "execution_count": 122,
   "metadata": {
    "collapsed": false
   },
   "outputs": [
    {
     "name": "stdout",
     "output_type": "stream",
     "text": [
      "['Fashion', 'Health & Beauty', 'TV, Audio / Video, Gaming & Wearables', 'Computers & Laptops', 'Cameras', 'Home & Living', 'Watches Sunglasses Jewellery', 'Mobiles & Tablets', 'Home Appliances']\n"
     ]
    }
   ],
   "source": [
    "categories=[]\n",
    "for i in range(len(train_df)):\n",
    "    cat=str(train_df['category_lvl_1'][i])\n",
    "    if  cat not in categories:\n",
    "        categories.append(cat)\n",
    "\n",
    "print(categories)"
   ]
  },
  {
   "cell_type": "code",
   "execution_count": 200,
   "metadata": {
    "collapsed": false
   },
   "outputs": [],
   "source": [
    "def genSeq(string):\n",
    "    strL=string.split()\n",
    "    seqs=[]\n",
    "    for i in range(len(strL)):\n",
    "        seq=[]\n",
    "        seq.append(strL[i])\n",
    "        seqs.append(list(seq))\n",
    "        \n",
    "        j=i+1\n",
    "        while j < len(strL):\n",
    "            seq.append(strL[j])\n",
    "            seqs.append(list(seq))\n",
    "            j+=1\n",
    "        \n",
    "    return seqs\n",
    "\n",
    "def lisToString(liste):\n",
    "    string=''\n",
    "    for i in liste:\n",
    "        string+=str(i)+' '\n",
    "    return string\n",
    "    \n",
    "def simString(string1, string2):\n",
    "    seqs1=genSeq(string1)\n",
    "    seqs2=genSeq(string2)\n",
    "    \n",
    "    sim={}\n",
    "    for seq1 in seqs1:\n",
    "        for seq2 in seqs2:\n",
    "            if seq1 == seq2:\n",
    "                sim[lisToString(seq1)]=len(seq1)\n",
    "    return sim\n",
    "    \n",
    "def similarity(string1, string2):\n",
    "    simseqs=simString(string1, string2)\n",
    "    \n",
    "    seqM=''\n",
    "    lenM=0\n",
    "    for seq, leng in simseqs.items():\n",
    "        if leng > lenM:\n",
    "            seqM = seq\n",
    "            lenM = leng\n",
    "            \n",
    "    lenm = min(len(string1.split()), len(string2.split()))\n",
    "    return lenM,seqM\n"
   ]
  },
  {
   "cell_type": "code",
   "execution_count": 201,
   "metadata": {
    "collapsed": false
   },
   "outputs": [
    {
     "name": "stdout",
     "output_type": "stream",
     "text": [
      "[['my'], ['my', 'name'], ['my', 'name', 'is'], ['my', 'name', 'is', 'James'], ['my', 'name', 'is', 'James', 'Bond'], ['name'], ['name', 'is'], ['name', 'is', 'James'], ['name', 'is', 'James', 'Bond'], ['is'], ['is', 'James'], ['is', 'James', 'Bond'], ['James'], ['James', 'Bond'], ['Bond']]\n",
      "{'James ': 1, 'Bond ': 1, 'is ': 1, 'James Bond ': 2}\n",
      "(2, 'James Bond ')\n"
     ]
    }
   ],
   "source": [
    "string1=\"my name is James Bond\"\n",
    "string2=\"James Bond is a spy\"\n",
    "print(genSeq(string1))\n",
    "print(simString(string1, string2))\n",
    "print(similarity(string1, string2))"
   ]
  },
  {
   "cell_type": "code",
   "execution_count": 202,
   "metadata": {
    "collapsed": false
   },
   "outputs": [],
   "source": [
    "fashion_df = train_df[train_df['category_lvl_1'] == 'Fashion']\n",
    "\n",
    "\n",
    "#extract product names from title : \"usb charger for iphone\" => \"usb charger\"\n",
    "def extractProdNames(train_def_cat):\n",
    "    #create a list of string for every titles\n",
    "    liste=[]\n",
    "    for i in range(len (train_def_cat)):\n",
    "        title=str(train_df['title'][i])\n",
    "        liste.append(title)\n",
    "    \n",
    "    #group by longest common sequence\n",
    "    clusters=groupLongSeq(liste, seq_avg_lgt = 2)\n",
    "    \n",
    "    #extract the longest commmon sequence string : supposed to be product name\n",
    "    listProd=[]\n",
    "    for i in range(len(clusters)):\n",
    "        if len(clust[i]) > 1:\n",
    "            listProd.append(similarity(clust[i][0],clust[i][1])[1])\n",
    "        else:\n",
    "            listProd.append(clust[i][0])\n",
    "    return listProd\n",
    "    \n",
    "\n",
    "#group products by longest seq\n",
    "def groupLongSeq(listeStr, seq_avg_lgt = 2):\n",
    "    #create a matrix which values are length of longest common sequence between two titles\n",
    "    #for similarity of product with itself, choose value of average product name length\n",
    "    simMatrix=np.zeros((len(liste),len(liste)))\n",
    "    for i in range(len(liste)):\n",
    "        for j in range(len(liste)):\n",
    "            if i == j :\n",
    "                simMatrix[i][j] = seq_avg_lgt\n",
    "            else:\n",
    "                simMatrix[i][j] = similarity(liste[i],liste[j])[0]\n",
    "    pairList=[]\n",
    "    return groupSimMatrix(simMatrix, pairList,liste)\n",
    "\n",
    "\n",
    "def groupSimMatrix(simMatrix, pairList,liste):\n",
    "    length = simMatrix.shape[0]\n",
    "    \n",
    "    #stop recurrence once matrix is empty\n",
    "    if length == 0:\n",
    "        return pairList\n",
    "    valueMax=0\n",
    "    pair=[0]\n",
    "    #let s find the maximal similarity between 2 items\n",
    "    for j in range(1,length):\n",
    "        if simMatrix[0][j] > valueMax:\n",
    "            valueMax = simMatrix[0][j]\n",
    "    \n",
    "    #let's now examine the possible candidates for similarity:\n",
    "    for j in range(1,length):\n",
    "        if  valueMax == simMatrix[0][j]:\n",
    "            #is there another value for which similarity of candidates and other item is higher ?\n",
    "            isCandidate = 1\n",
    "            for i in range(1,length):\n",
    "                if simMatrix[i][j] > valueMax:\n",
    "                    isCandidate = 0\n",
    "            \n",
    "            #if not :\n",
    "            if isCandidate == 1:\n",
    "                pair.append(j)\n",
    "    \n",
    "    #find strings corresponding to matrix indexes\n",
    "    pairItem=[]\n",
    "    for i in pair:\n",
    "        pairItem.append(liste[i])\n",
    "    \n",
    "\n",
    "    #update matrix and list by removing the similar products found => reduce matrix for every recurrence\n",
    "    newMatrix=np.delete(simMatrix, pair, axis=0)\n",
    "    newMatrix=np.delete(newMatrix, pair, axis=1)\n",
    "    liste = [e for e in liste if e not in pairItem]\n",
    "    \n",
    "    pairList.append(pairItem)\n",
    "    return groupSimMatrix(newMatrix,pairList , liste)"
   ]
  },
  {
   "cell_type": "code",
   "execution_count": 203,
   "metadata": {
    "collapsed": false
   },
   "outputs": [
    {
     "name": "stdout",
     "output_type": "stream",
     "text": [
      "[['hello you there', 'you there come here'], ['you are a nuts', 'you there are a nuts'], ['you are hello']]\n",
      "['you there ', 'are a nuts ', 'you are hello']\n"
     ]
    }
   ],
   "source": [
    "liste=['hello you there', 'you are a nuts', 'you are hello', 'you there are a nuts', 'you there come here']\n",
    "clust=groupLongSeq(liste,2)\n",
    "print(clust)\n",
    "listProd=[]\n",
    "for i in range(len(clust)):\n",
    "    if len(clust[i]) > 1:\n",
    "        listProd.append(similarity(clust[i][0],clust[i][1])[1])\n",
    "    else:\n",
    "        listProd.append(clust[i][0])\n",
    "print(listProd)"
   ]
  },
  {
   "cell_type": "code",
   "execution_count": 198,
   "metadata": {
    "collapsed": false
   },
   "outputs": [],
   "source": [
    "def exportList(filename, listProd):\n",
    "    f = open (filename,\"w\") \n",
    "    for item in listProd:\n",
    "        f.write(str(item)+'\\n')\n",
    "    f.close()"
   ]
  },
  {
   "cell_type": "code",
   "execution_count": 199,
   "metadata": {
    "collapsed": false
   },
   "outputs": [],
   "source": [
    "listProd = extractProdNames(fashion_df)\n",
    "exportList('fashion_product_names.txt', listProd)"
   ]
  },
  {
   "cell_type": "code",
   "execution_count": null,
   "metadata": {
    "collapsed": true
   },
   "outputs": [],
   "source": []
  }
 ],
 "metadata": {
  "anaconda-cloud": {},
  "kernelspec": {
   "display_name": "Python [Root]",
   "language": "python",
   "name": "Python [Root]"
  },
  "language_info": {
   "codemirror_mode": {
    "name": "ipython",
    "version": 3
   },
   "file_extension": ".py",
   "mimetype": "text/x-python",
   "name": "python",
   "nbconvert_exporter": "python",
   "pygments_lexer": "ipython3",
   "version": "3.5.1"
  }
 },
 "nbformat": 4,
 "nbformat_minor": 2
}
