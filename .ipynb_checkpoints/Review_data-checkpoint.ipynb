{
 "cells": [
  {
   "cell_type": "code",
   "execution_count": 20,
   "metadata": {
    "collapsed": false,
    "deletable": true,
    "editable": true
   },
   "outputs": [],
   "source": [
    "import pandas as pd\n",
    "import numpy as np\n",
    "import matplotlib.pyplot as plt\n",
<<<<<<< HEAD
    "%matplotlib inline"
=======
    "%matplotlib inline  "
>>>>>>> b58367a60ae1ddb8e25ab4d55a29b4dbd29b3ca1
   ]
  },
  {
   "cell_type": "code",
   "execution_count": 2,
   "metadata": {
    "collapsed": false,
    "deletable": true,
    "editable": true
   },
   "outputs": [],
   "source": [
    "train_df = pd.read_csv(\"data/training/data_train.csv\", dtype='unicode')"
   ]
  },
  {
   "cell_type": "code",
   "execution_count": 3,
   "metadata": {
    "collapsed": false,
    "deletable": true,
    "editable": true
   },
   "outputs": [],
   "source": [
    "train_df['title_len'] = train_df['title'].str.len()"
   ]
  },
  {
   "cell_type": "code",
   "execution_count": 9,
   "metadata": {
    "collapsed": false
   },
   "outputs": [
    {
     "data": {
      "text/html": [
       "<div>\n",
       "<table border=\"1\" class=\"dataframe\">\n",
       "  <thead>\n",
       "    <tr style=\"text-align: right;\">\n",
       "      <th></th>\n",
       "      <th>country</th>\n",
       "      <th>sku_id</th>\n",
       "      <th>title</th>\n",
       "      <th>category_lvl_1</th>\n",
       "      <th>category_lvl_2</th>\n",
       "      <th>category_lvl_3</th>\n",
       "      <th>short_description</th>\n",
       "      <th>price</th>\n",
       "      <th>product_type</th>\n",
       "      <th>clarity</th>\n",
       "      <th>conciseness</th>\n",
       "      <th>title_len</th>\n",
       "    </tr>\n",
       "  </thead>\n",
       "  <tbody>\n",
       "    <tr>\n",
       "      <th>0</th>\n",
       "      <td>my</td>\n",
       "      <td>AD674FAASTLXANMY</td>\n",
       "      <td>Adana Gallery Suri Square Hijab – Light Pink</td>\n",
       "      <td>Fashion</td>\n",
       "      <td>Women</td>\n",
       "      <td>Muslim Wear</td>\n",
       "      <td>&lt;ul&gt;&lt;li&gt;Material : Non sheer shimmer chiffon&lt;/...</td>\n",
       "      <td>49</td>\n",
       "      <td>local</td>\n",
       "      <td>1</td>\n",
       "      <td>1</td>\n",
       "      <td>44</td>\n",
       "    </tr>\n",
       "    <tr>\n",
       "      <th>1</th>\n",
       "      <td>my</td>\n",
       "      <td>AE068HBAA3RPRDANMY</td>\n",
       "      <td>Cuba Heartbreaker Eau De Parfum Spray 100ml/3.3oz</td>\n",
       "      <td>Health &amp; Beauty</td>\n",
       "      <td>Bath &amp; Body</td>\n",
       "      <td>Hand &amp; Foot Care</td>\n",
       "      <td>Formulated with oil-free hydrating botanicals/...</td>\n",
       "      <td>128</td>\n",
       "      <td>international</td>\n",
       "      <td>1</td>\n",
       "      <td>1</td>\n",
       "      <td>49</td>\n",
       "    </tr>\n",
       "  </tbody>\n",
       "</table>\n",
       "</div>"
      ],
      "text/plain": [
       "  country              sku_id  \\\n",
       "0      my    AD674FAASTLXANMY   \n",
       "1      my  AE068HBAA3RPRDANMY   \n",
       "\n",
       "                                               title   category_lvl_1  \\\n",
       "0       Adana Gallery Suri Square Hijab – Light Pink          Fashion   \n",
       "1  Cuba Heartbreaker Eau De Parfum Spray 100ml/3.3oz  Health & Beauty   \n",
       "\n",
       "  category_lvl_2    category_lvl_3  \\\n",
       "0          Women       Muslim Wear   \n",
       "1    Bath & Body  Hand & Foot Care   \n",
       "\n",
       "                                   short_description price   product_type  \\\n",
       "0  <ul><li>Material : Non sheer shimmer chiffon</...    49          local   \n",
       "1  Formulated with oil-free hydrating botanicals/...   128  international   \n",
       "\n",
       "  clarity conciseness  title_len  \n",
       "0       1           1         44  \n",
       "1       1           1         49  "
      ]
     },
     "execution_count": 9,
     "metadata": {},
     "output_type": "execute_result"
    }
   ],
   "source": [
    "train_df.head(2)"
   ]
  },
  {
   "cell_type": "code",
   "execution_count": 10,
   "metadata": {
    "collapsed": false,
    "deletable": true,
    "editable": true
   },
   "outputs": [
    {
     "data": {
      "text/plain": [
       "86.556690997566903"
      ]
     },
     "execution_count": 10,
     "metadata": {},
     "output_type": "execute_result"
    }
   ],
   "source": [
    "np.average((train_df[train_df.clarity == '0']).title_len)"
   ]
  },
  {
   "cell_type": "code",
<<<<<<< HEAD
   "execution_count": 11,
=======
   "execution_count": 5,
>>>>>>> b58367a60ae1ddb8e25ab4d55a29b4dbd29b3ca1
   "metadata": {
    "collapsed": false,
    "deletable": true,
    "editable": true
   },
   "outputs": [
    {
     "data": {
      "text/plain": [
       "74.558899146897275"
      ]
     },
<<<<<<< HEAD
     "execution_count": 11,
=======
     "execution_count": 5,
>>>>>>> b58367a60ae1ddb8e25ab4d55a29b4dbd29b3ca1
     "metadata": {},
     "output_type": "execute_result"
    }
   ],
   "source": [
    "np.average((train_df[train_df.clarity == '1']).title_len)"
   ]
  },
  {
   "cell_type": "code",
<<<<<<< HEAD
   "execution_count": 12,
=======
   "execution_count": 6,
>>>>>>> b58367a60ae1ddb8e25ab4d55a29b4dbd29b3ca1
   "metadata": {
    "collapsed": false,
    "deletable": true,
    "editable": true
   },
   "outputs": [
    {
     "data": {
      "text/plain": [
       "75.238431221233085"
      ]
     },
<<<<<<< HEAD
     "execution_count": 12,
=======
     "execution_count": 6,
>>>>>>> b58367a60ae1ddb8e25ab4d55a29b4dbd29b3ca1
     "metadata": {},
     "output_type": "execute_result"
    }
   ],
   "source": [
    "np.average(train_df.title_len)"
   ]
  },
  {
   "cell_type": "code",
<<<<<<< HEAD
   "execution_count": 13,
=======
   "execution_count": 7,
   "metadata": {
    "collapsed": false,
    "deletable": true,
    "editable": true
   },
   "outputs": [
    {
     "data": {
      "text/plain": [
       "34.74269091505252"
      ]
     },
     "execution_count": 7,
     "metadata": {},
     "output_type": "execute_result"
    }
   ],
   "source": [
    "np.std((train_df[train_df.clarity == '0']).title_len)"
   ]
  },
  {
   "cell_type": "code",
   "execution_count": 8,
   "metadata": {
    "collapsed": false,
    "deletable": true,
    "editable": true
   },
   "outputs": [
    {
     "data": {
      "text/plain": [
       "30.035658300185968"
      ]
     },
     "execution_count": 8,
     "metadata": {},
     "output_type": "execute_result"
    }
   ],
   "source": [
    "np.std((train_df[train_df.clarity == '1']).title_len)"
   ]
  },
  {
   "cell_type": "code",
   "execution_count": 9,
   "metadata": {
    "collapsed": false,
    "deletable": true,
    "editable": true
   },
   "outputs": [
    {
     "data": {
      "text/plain": [
       "30.448343583423483"
      ]
     },
     "execution_count": 9,
     "metadata": {},
     "output_type": "execute_result"
    }
   ],
   "source": [
    "np.std(train_df.title_len)"
   ]
  },
  {
   "cell_type": "code",
   "execution_count": 10,
>>>>>>> b58367a60ae1ddb8e25ab4d55a29b4dbd29b3ca1
   "metadata": {
    "collapsed": false,
    "deletable": true,
    "editable": true
   },
   "outputs": [
    {
     "data": {
      "text/plain": [
       "36283"
      ]
     },
     "execution_count": 13,
     "metadata": {},
     "output_type": "execute_result"
    }
   ],
   "source": [
    "len(train_df)"
   ]
  },
  {
   "cell_type": "code",
   "execution_count": 11,
   "metadata": {
    "collapsed": false,
    "deletable": true,
    "editable": true
   },
   "outputs": [
    {
     "data": {
      "text/plain": [
       "2055"
      ]
     },
     "execution_count": 11,
     "metadata": {},
     "output_type": "execute_result"
    }
   ],
   "source": [
    "len((train_df[train_df.clarity == '0']))"
   ]
  },
  {
   "cell_type": "code",
<<<<<<< HEAD
   "execution_count": 15,
=======
   "execution_count": 12,
>>>>>>> b58367a60ae1ddb8e25ab4d55a29b4dbd29b3ca1
   "metadata": {
    "collapsed": false,
    "deletable": true,
    "editable": true
   },
   "outputs": [
    {
     "data": {
      "text/plain": [
       "34228"
      ]
     },
<<<<<<< HEAD
     "execution_count": 15,
=======
     "execution_count": 12,
>>>>>>> b58367a60ae1ddb8e25ab4d55a29b4dbd29b3ca1
     "metadata": {},
     "output_type": "execute_result"
    }
   ],
   "source": [
    "len((train_df[train_df.clarity == '1']))"
   ]
  },
  {
   "cell_type": "code",
<<<<<<< HEAD
   "execution_count": 16,
=======
   "execution_count": 13,
>>>>>>> b58367a60ae1ddb8e25ab4d55a29b4dbd29b3ca1
   "metadata": {
    "collapsed": false,
    "deletable": true,
    "editable": true
   },
   "outputs": [
    {
     "name": "stdout",
     "output_type": "stream",
     "text": [
      "2055\n"
     ]
    }
   ],
   "source": [
    "un_clarify_df = train_df[train_df.clarity == '0']\n",
    "print(len(un_clarify_df))"
   ]
  },
  {
   "cell_type": "code",
<<<<<<< HEAD
   "execution_count": 17,
=======
   "execution_count": 14,
>>>>>>> b58367a60ae1ddb8e25ab4d55a29b4dbd29b3ca1
   "metadata": {
    "collapsed": false,
    "deletable": true,
    "editable": true
   },
   "outputs": [
    {
     "data": {
      "text/plain": [
       "category_lvl_1\n",
       "Cameras                                    10\n",
       "Computers & Laptops                        29\n",
       "Fashion                                  1097\n",
       "Health & Beauty                           160\n",
       "Home & Living                             245\n",
       "Home Appliances                             7\n",
       "Mobiles & Tablets                          38\n",
       "TV, Audio / Video, Gaming & Wearables      16\n",
       "Watches Sunglasses Jewellery              453\n",
       "Name: clarity, dtype: int64"
      ]
     },
<<<<<<< HEAD
     "execution_count": 17,
=======
     "execution_count": 14,
>>>>>>> b58367a60ae1ddb8e25ab4d55a29b4dbd29b3ca1
     "metadata": {},
     "output_type": "execute_result"
    }
   ],
   "source": [
    "un_clarify_df.groupby(['category_lvl_1'])['clarity'].count()"
   ]
  },
  {
   "cell_type": "code",
<<<<<<< HEAD
   "execution_count": 18,
=======
   "execution_count": 15,
>>>>>>> b58367a60ae1ddb8e25ab4d55a29b4dbd29b3ca1
   "metadata": {
    "collapsed": false,
    "deletable": true,
    "editable": true
   },
   "outputs": [
    {
     "name": "stdout",
     "output_type": "stream",
     "text": [
      "34228\n"
     ]
    },
    {
     "data": {
      "text/plain": [
       "category_lvl_1\n",
       "Cameras                                  1942\n",
       "Computers & Laptops                      2896\n",
       "Fashion                                  4632\n",
       "Health & Beauty                          3880\n",
       "Home & Living                            5803\n",
       "Home Appliances                          1578\n",
       "Mobiles & Tablets                        7239\n",
       "TV, Audio / Video, Gaming & Wearables    2495\n",
       "Watches Sunglasses Jewellery             3763\n",
       "Name: clarity, dtype: int64"
      ]
     },
<<<<<<< HEAD
     "execution_count": 18,
=======
     "execution_count": 15,
>>>>>>> b58367a60ae1ddb8e25ab4d55a29b4dbd29b3ca1
     "metadata": {},
     "output_type": "execute_result"
    }
   ],
   "source": [
    "clarify_df = train_df[train_df.clarity == '1']\n",
    "print(len(clarify_df))\n",
    "clarify_df.groupby(['category_lvl_1'])['clarity'].count()"
   ]
  },
  {
   "cell_type": "code",
<<<<<<< HEAD
   "execution_count": 19,
   "metadata": {
    "collapsed": false
=======
   "execution_count": 16,
   "metadata": {
    "collapsed": false,
    "deletable": true,
    "editable": true
   },
   "outputs": [
    {
     "data": {
      "text/html": [
       "<div>\n",
       "<table border=\"1\" class=\"dataframe\">\n",
       "  <thead>\n",
       "    <tr style=\"text-align: right;\">\n",
       "      <th></th>\n",
       "      <th>country</th>\n",
       "      <th>sku_id</th>\n",
       "      <th>title</th>\n",
       "      <th>category_lvl_1</th>\n",
       "      <th>category_lvl_2</th>\n",
       "      <th>category_lvl_3</th>\n",
       "      <th>short_description</th>\n",
       "      <th>price</th>\n",
       "      <th>product_type</th>\n",
       "      <th>clarity</th>\n",
       "      <th>conciseness</th>\n",
       "      <th>title_len</th>\n",
       "    </tr>\n",
       "  </thead>\n",
       "  <tbody>\n",
       "    <tr>\n",
       "      <th>0</th>\n",
       "      <td>my</td>\n",
       "      <td>AD674FAASTLXANMY</td>\n",
       "      <td>Adana Gallery Suri Square Hijab – Light Pink</td>\n",
       "      <td>Fashion</td>\n",
       "      <td>Women</td>\n",
       "      <td>Muslim Wear</td>\n",
       "      <td>&lt;ul&gt;&lt;li&gt;Material : Non sheer shimmer chiffon&lt;/...</td>\n",
       "      <td>49</td>\n",
       "      <td>local</td>\n",
       "      <td>1</td>\n",
       "      <td>1</td>\n",
       "      <td>44</td>\n",
       "    </tr>\n",
       "    <tr>\n",
       "      <th>1</th>\n",
       "      <td>my</td>\n",
       "      <td>AE068HBAA3RPRDANMY</td>\n",
       "      <td>Cuba Heartbreaker Eau De Parfum Spray 100ml/3.3oz</td>\n",
       "      <td>Health &amp; Beauty</td>\n",
       "      <td>Bath &amp; Body</td>\n",
       "      <td>Hand &amp; Foot Care</td>\n",
       "      <td>Formulated with oil-free hydrating botanicals/...</td>\n",
       "      <td>128</td>\n",
       "      <td>international</td>\n",
       "      <td>1</td>\n",
       "      <td>1</td>\n",
       "      <td>49</td>\n",
       "    </tr>\n",
       "    <tr>\n",
       "      <th>2</th>\n",
       "      <td>my</td>\n",
       "      <td>AN680ELAA9VN57ANMY</td>\n",
       "      <td>Andoer 150cm Cellphone Smartphone Mini Dual-He...</td>\n",
       "      <td>TV, Audio / Video, Gaming &amp; Wearables</td>\n",
       "      <td>Audio</td>\n",
       "      <td>Live Sound &amp; Stage</td>\n",
       "      <td>&lt;ul&gt; &lt;li&gt;150cm mini microphone compatible for ...</td>\n",
       "      <td>25.07</td>\n",
       "      <td>international</td>\n",
       "      <td>1</td>\n",
       "      <td>0</td>\n",
       "      <td>138</td>\n",
       "    </tr>\n",
       "    <tr>\n",
       "      <th>3</th>\n",
       "      <td>my</td>\n",
       "      <td>AN957HBAAAHDF4ANMY</td>\n",
       "      <td>ANMYNA Complaint Silky Set 柔顺洗发配套 (Shampoo 520...</td>\n",
       "      <td>Health &amp; Beauty</td>\n",
       "      <td>Hair Care</td>\n",
       "      <td>Shampoos &amp; Conditioners</td>\n",
       "      <td>&lt;ul&gt; &lt;li&gt;ANMYNA Complaint Silky Set (Shampoo 5...</td>\n",
       "      <td>118</td>\n",
       "      <td>local</td>\n",
       "      <td>1</td>\n",
       "      <td>1</td>\n",
       "      <td>69</td>\n",
       "    </tr>\n",
       "    <tr>\n",
       "      <th>4</th>\n",
       "      <td>my</td>\n",
       "      <td>AR511HBAXNWAANMY</td>\n",
       "      <td>Argital Argiltubo Green Clay For Face and Body...</td>\n",
       "      <td>Health &amp; Beauty</td>\n",
       "      <td>Men's Care</td>\n",
       "      <td>Body and Skin Care</td>\n",
       "      <td>&lt;ul&gt; &lt;li&gt;100% Authentic&lt;/li&gt; &lt;li&gt;Rrefresh and ...</td>\n",
       "      <td>114.8</td>\n",
       "      <td>international</td>\n",
       "      <td>1</td>\n",
       "      <td>1</td>\n",
       "      <td>52</td>\n",
       "    </tr>\n",
       "  </tbody>\n",
       "</table>\n",
       "</div>"
      ],
      "text/plain": [
       "  country              sku_id  \\\n",
       "0      my    AD674FAASTLXANMY   \n",
       "1      my  AE068HBAA3RPRDANMY   \n",
       "2      my  AN680ELAA9VN57ANMY   \n",
       "3      my  AN957HBAAAHDF4ANMY   \n",
       "4      my    AR511HBAXNWAANMY   \n",
       "\n",
       "                                               title  \\\n",
       "0       Adana Gallery Suri Square Hijab – Light Pink   \n",
       "1  Cuba Heartbreaker Eau De Parfum Spray 100ml/3.3oz   \n",
       "2  Andoer 150cm Cellphone Smartphone Mini Dual-He...   \n",
       "3  ANMYNA Complaint Silky Set 柔顺洗发配套 (Shampoo 520...   \n",
       "4  Argital Argiltubo Green Clay For Face and Body...   \n",
       "\n",
       "                          category_lvl_1 category_lvl_2  \\\n",
       "0                                Fashion          Women   \n",
       "1                        Health & Beauty    Bath & Body   \n",
       "2  TV, Audio / Video, Gaming & Wearables          Audio   \n",
       "3                        Health & Beauty      Hair Care   \n",
       "4                        Health & Beauty     Men's Care   \n",
       "\n",
       "            category_lvl_3                                  short_description  \\\n",
       "0              Muslim Wear  <ul><li>Material : Non sheer shimmer chiffon</...   \n",
       "1         Hand & Foot Care  Formulated with oil-free hydrating botanicals/...   \n",
       "2       Live Sound & Stage  <ul> <li>150cm mini microphone compatible for ...   \n",
       "3  Shampoos & Conditioners  <ul> <li>ANMYNA Complaint Silky Set (Shampoo 5...   \n",
       "4       Body and Skin Care  <ul> <li>100% Authentic</li> <li>Rrefresh and ...   \n",
       "\n",
       "   price   product_type clarity conciseness  title_len  \n",
       "0     49          local       1           1         44  \n",
       "1    128  international       1           1         49  \n",
       "2  25.07  international       1           0        138  \n",
       "3    118          local       1           1         69  \n",
       "4  114.8  international       1           1         52  "
      ]
     },
     "execution_count": 16,
     "metadata": {},
     "output_type": "execute_result"
    }
   ],
   "source": [
    "train_df.head()"
   ]
  },
  {
   "cell_type": "code",
   "execution_count": 28,
   "metadata": {
    "collapsed": false,
    "deletable": true,
    "editable": true
>>>>>>> b58367a60ae1ddb8e25ab4d55a29b4dbd29b3ca1
   },
   "outputs": [
    {
     "data": {
<<<<<<< HEAD
      "image/png": "iVBORw0KGgoAAAANSUhEUgAAAYQAAAEACAYAAACznAEdAAAABHNCSVQICAgIfAhkiAAAAAlwSFlz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\nIJiZGQD/HxE3xjJn+mxIAAAAAElFTkSuQmCC\n",
      "text/plain": [
       "<matplotlib.figure.Figure at 0x8cd1a58>"
=======
      "image/png": "iVBORw0KGgoAAAANSUhEUgAAAYMAAAEACAYAAABRQBpkAAAABHNCSVQICAgIfAhkiAAAAAlwSFlz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\nrkJggg==\n",
      "text/plain": [
       "<matplotlib.figure.Figure at 0x7fe8d7b6d3c8>"
>>>>>>> b58367a60ae1ddb8e25ab4d55a29b4dbd29b3ca1
      ]
     },
     "metadata": {},
     "output_type": "display_data"
    }
   ],
   "source": [
    "clarify_df['title_len'].hist(bins=50)\n",
    "plt.show()"
   ]
  },
  {
   "cell_type": "code",
<<<<<<< HEAD
   "execution_count": 20,
=======
   "execution_count": 30,
>>>>>>> b58367a60ae1ddb8e25ab4d55a29b4dbd29b3ca1
   "metadata": {
    "collapsed": false
   },
   "outputs": [
    {
     "data": {
<<<<<<< HEAD
      "image/png": "iVBORw0KGgoAAAANSUhEUgAAAX0AAAEACAYAAABfxaZOAAAABHNCSVQICAgIfAhkiAAAAAlwSFlz\nAAALEgAACxIB0t1+/AAAG4lJREFUeJzt3X2QHPV95/H3B2QpdjizMim0ZR40EGwQfsjaIcQXJ/Fc\nHB6cuxjKd6UQ3+W84c5XFZyYwq47S84fcv64M+LKFXxJ8UcC1uKUiQKOY+McNoKCvisq5uHKKGBL\nxrrySchKtH4AJ5VyHYfi7/3RvdrR7oxmdqZ7u/s3n1fVFNu/6Zn+fenVd3s+0z2jiMDMzKbDGXVP\nwMzM1o+bvpnZFHHTNzObIm76ZmZTxE3fzGyKuOmbmU2RoU1f0l2SFiU90zP2U5K+IulpSU9KuqLn\nvp2SDkk6KOnqqiZuZmZrN8qR/h7gmhVjtwG7IuItwC7gvwJIuhzYDmwD3gXcIUnlTdfMzCYxtOlH\nxGPAiyuGfwScXfw8Axwrfn43sDciTkTEYeAQcGU5UzUzs0ltGPNxtwAPSvoEIODnivHzgK/0rHes\nGDMzswYY943c3wJujogLyf8AfKq8KZmZWVXGPdJ/X0TcDBARn5V0ZzF+DLigZ73zWY5+TiHJH/pj\nZjaGiBj7vdJRj/RV3JYck/QOAEnvJM/uAe4HbpC0UdJFwCXAk4OeNCKSve3atav2Obg+1zeN9aVc\nW8Tkx8pDj/Ql3QN0gXMkPU9+ts77gf8m6Uzg/wL/oWjiByTdCxwAXgZuijJm2UKHDx+uewqVcn3t\nlnJ9KddWhqFNPyLeO+CuK/oNRsTHgY9PMikzM6uGr8ityPz8fN1TqJTra7eU60u5tjKorvRF0rQm\nP2ZmY5NErMMbubZGWZbVtu3Z2Q6SVt1mZzulbaPO+taD62uvlGsrw7inbFqDLS4eAVa/ilpc9Cdi\nmE07xzsJyj/uqN//W5VyypeZ1cfxjpmZjcxNvyKp54qur91Sri/l2srgpm9mNkWc6SfImb5Zupzp\nm5nZyNz0K5J6ruj62i3l+lKurQxu+mZmU8SZfoKc6Zuly5m+mZmNzE2/Iqnniq6v3VKuL+XayuCm\nb2Y2RYZm+pLuAv4FsBgRb+4Z/x3gJuAE8N8jYkcxvhO4sRi/OSL2DXheZ/oVcaZvlq5JM/1RPmVz\nD/AHwKd7NtoFfhV4U0SckPQTxfg2YDuwjfxL0R+W9Dp3dzOzZhga70TEY8CLK4Z/C7g1Ik4U63yv\nGL8O2BsRJyLiMPkXpl9Z3nTbI/Vc0fW1W8r1pVxbGcbN9F8P/KKkxyU9Kumni/HzgKM96x0rxszM\nrAHG/RKVDcDmiHibpJ8B7gMuXuuTzM/P0+l0AJiZmWFubo5utwss/7Vu6/LSWH3bz4r/rlxenlub\n60t9/7m+8Ze73W6j5jPpcpZlLCwsAJzsl5MY6eIsSVuBLy69kSvpAWB3RPyPYvkQ8Dbg/QARcWsx\n/mVgV0Q80ec5HfVXxG/kmqVrvS7OUnFb8nngl4oJvB7YGBHfB+4Hfk3SRkkXAZcAT447uTZb+kvd\nLJtK+97cZtZXHtfXXinXVoah8Y6ke8gzgnMkPQ/sAj4F7JH0LPAS8G8BIuKApHuBA8DLwE0+nG+S\nl1j5CsDfm2s2XfzZOy02O9spvgS9n/7xzupxRz5mbTJpvOOm32Kny+7d9M3S5A9ca6jUc0XX124p\n15dybWVw0zczmyKOd1rM8Y7Z9HG8Y2ZmI3PTr0jquaLra7eU60u5tjK46ZuZTRFn+i3mTN9s+jjT\nNzOzkbnpVyT1XNH1tVvK9aVcWxnc9M3Mpogz/RZzpm82fZzpm5nZyNz0K5J6ruj62i3l+lKurQxu\n+mZmU8SZfos50zebPpVn+pLukrQo6Zk+931Y0o8kvaZnbKekQ5IOSrp63ImZmVn5Rol39gDXrByU\ndD5wFXCkZ2wbsB3YBrwLuEP54ejUST1XdH3tlnJ9KddWhqFNPyIeA17sc9fvA/9xxdh1wN6IOBER\nh4FDwJWTTtKqtPrL0if5wnQza7aRMn1JW4EvRsSbi+V3A92I+JCk/wP8dES8IOkPgK9ExD3FencC\nD0TE5/o8pzP9CZWV6Q9a1/vHrHkmzfQ3jLHBVwIfJY92JjI/P0+n0wFgZmaGubk5ut0usPwSzcun\nX162tNwdsrxy/UGPz7dRd31e9vK0L2dZxsLCAsDJfjmJNR/pS3oj8DDwQ/LDxPOBY+Qxzo0AEXFr\n8bgvA7si4ok+z5n0kX5vw6xKnUf661FfnVxfe6VcG6zfFbkqbkTE1yJiNiIujoiLgG8Db4mI7wD3\nA78maaOki4BLgCfHnZyZmZVr6JG+pHvIX/OfAyySH7nv6bn/W8AVEfFCsbwT+HfAy8DNEbFvwPMm\nfaS/Hpzpm02fSY/0fXFWi7npm00ff+BaQ61+ozUtrq/dUq4v5drK4KZvZjZFHO+0mOMds+njeMfM\nzEbmpl+R1HNF19duKdeXcm1lcNM3M5sizvRbzJm+2fRxpm9mZiNz069I6rmi62u3lOtLubYyuOmb\nmU0RZ/ot5kzfbPo40zczs5G56Vck9VzR9bVbyvWlXFsZ3PTNzKaIM/0Wc6ZvNn2c6ZuZ2ciGNn1J\nd0lalPRMz9htkg5K2i/pzyW9uue+nZIOFfdfXdXEmy71XNH1tVvK9aVcWxlGOdLfA1yzYmwf8IaI\nmAMOATsBJF0ObAe2Ae8C7lCeQZiZWQOMlOlL2gp8MSLe3Oe+64F/GRG/IWkHEBGxu7jvS8DHIuKJ\nPo9zpj8hZ/pm06cJmf6NwAPFz+cBR3vuO1aM2YRmZztIOuVmZrZWGyZ5sKTfBV6OiD8d5/Hz8/N0\nOh0AZmZmmJubo9vtAsu5XFuXb7/99lLrWVw8AjwK5MuQAf+MZVnx3+6Q5ZXrD3p8Pof1qq9py66v\nvcu9mX4T5lNGPQsLCwAn++Ukxo53JM0D7wd+KSJeKsZWxjtfBnZNY7zT2zDL0D/KqS/eKbu+pnF9\n7ZVybTB5vDNq0++QN/03FcvXAp8AfjEivt+z3uXAZ4CfJY91HgJe16+7p970y9a0pm9m9Zi06Q+N\ndyTdQ/6a/xxJzwO7gI8CG4GHimz58Yi4KSIOSLoXOAC8DNzkzm5m1hxD38iNiPdGxGsjYlNEXBgR\neyLidRGxNSLeWtxu6ln/4xFxSURsi4h91U6/uXpzxRS5vnZLub6UayuDr8g1M5si/uydllj/TP/H\ngJdOGdmyZSvHjx8eYbZmVpV1eSO3Cm76a1PHG7n91vU+M6tXEy7Osj5SzxVdX7ulXF/KtZXBTd/M\nbIo43mkJxztmBo53zMxsDdz0K5J6ruj62i3l+lKurQxu+mZmU8SZfks40zczcKZvZmZr4KZfkdRz\nRdfXbinXl3JtZXDTNzObIs70W8KZvpmBM30zM1uDoU1f0l2SFiU90zO2WdI+Sc9JelDS2T337ZR0\nSNJBSVdXNfGmSz1XdH3tlnJ9KddWhlGO9PcA16wY2wE8HBGXAo8AO+Hk1yVuB7YB7wLuUPHVWmZm\nVr+xvhhd0jeAd0TEoqRZIIuIy/p8MfqXgI9N4xejl82ZvplBfZn+uRGxCBARx4Fzi/HzgKM96x0r\nxszMrAHKeiPXh38rpJ4rur52S7m+lGsrw4YxH7coaUtPvPOdYvwYcEHPeucXY33Nz8/T6XQAmJmZ\nYW5ujm63CyzvuLYu79+/v9Tny2VAt+dnVtxHn/uHrT/o8affXtn1NW3Z9Xm5KctZlrGwsABwsl9O\nYtRMv0Oe6b+pWN4NvBARuyV9BNgcETuKN3I/A/wseazzEPC6fuG9M/21caZvZjB5pj/0SF/SPeSH\ne+dIeh7YBdwK3CfpRuAI+Rk7RMQBSfcCB4CXgZvc2c3MmmNoph8R742I10bEpoi4MCL2RMSLEfHL\nEXFpRFwdET/oWf/jEXFJRGyLiH3VTr+5ll6epcr1tVvK9aVcWxl8Ra6Z2RTxZ++0hDN9MwN/9k5y\nZmc7SFp1MzMrg5t+RcbNFRcXj5AfYa+8NUvquanra6+UayuDm76Z2RRxpt8w/bN7mDyPL+M5nOmb\n1c2ZvpmZjcxNvyKp54qur91Sri/l2srgpm9mNkWc6TeMM30zOx1n+mZmNjI3/YqkmStu6nvh2Oxs\np+6JlS7N/bcs5fpSrq0Mbvq2Bi+xfLHYoyd/zi8oM7M2cKbfME3P9Aet631ptj6c6ZuZ2cjc9CuS\nfq6Y1T2BSqW+/1KuL+XayjBR05d0i6SvSXpG0mckbZS0WdI+Sc9JelDS2WVN1szMJjN2pi/ptcBj\nwGUR8f8k/RnwAHA58P2IuK33+3P7PN6Zfh/O9M3sdOrO9M8EflzSBuCVwDHgOuDu4v67gesn3IaZ\nmZVk7KYfEX8DfAJ4nrzZ/11EPAxsiYjFYp3jwLllTLRt0s8Vs7onUKnU91/K9aVcWxnGbvqSZsiP\n6rcCryU/4v/XrH7979f9ZmYNsWGCx/4y8K2IeAFA0l8APwcsStoSEYuSZoHvDHqC+fl5Op0OADMz\nM8zNzdHtdoHlv9ZtXV4aW+vjly0td1eMdVfcP2j9Qcsr1x93e6feX/f/76bsv7Ysp1xft9tt1Hwm\nXc6yjIWFBYCT/XISk7yReyVwF/Az5Jdq7gGeAi4EXoiI3X4jd+38Rq6ZnU5tb+RGxJPAZ4Gngb8m\n7wh/BOwGrpL0HPBO4NZxt9Fmq4/cU5PVPYFKpb7/Uq4v5drKMEm8Q0T8HvB7K4ZfII9+zMysYfzZ\nOw3jeMfMTqfu8/TNzKxF3PQrkn6umNU9gUqlvv9Sri/l2srgpm+VmJ3tTM0Xrpi1iTP9hkkl0z9d\nHd7vZuNzpm9mZiNz069I+rliVvkW6oyIUt9/KdeXcm1lmOg8fbPcpiLOKVf+3buro6DFxfK3ZTYt\nnOk3TFsz/SrO6ff7AmarOdNvsX7xhZlZldz0KzJKrrgcX/Te2iIb83GbWnEaZ+q5cMr1pVxbGZzp\n2zp7iZV/3JzRm60fZ/o16p9Zp5/p91u33++CM32z1Zzpm5nZyNz0K5J+rpjVPYFKpb7/Uq4v5drK\n4KZvZjZFJsr0JZ0N3Am8EfgRcCPwTeDPyL8w/TCwPSL+rs9jnek70z855kzfbDR1Z/qfBB6IiG3A\nTwHfAHYAD0fEpcAjwM4Jt2FmZiUZu+lLejXwCxGxByAiThRH9NcBdxer3Q1cP/EsW6g3Vxz0GTLt\nltU9gUqlngunXF/KtZVhkiP9i4DvSdoj6auS/kjSq4AtEbEIEBHHgXPLmGib9b8Iy/GEma2/SS7O\n2gC8FfhARPwvSb9PHu2s7GYDu9v8/DydTgeAmZkZ5ubm6Ha7wPJf67YuL40tL2fFf1cuM2S5u2Js\n2OPXa3uD7h/18aeuP+j/51rXr2r/1f375PpGX+52u42az6TLWZaxsLAAcLJfTmLsN3IlbQG+EhEX\nF8s/T970fxLoRsSipFng0SLzX/n4qXkjt7oPUfMbuWbTprY3cosI56ik1xdD7wS+DtwPzBdj7wO+\nMO422iz9XDGrewKVSn3/pVxfyrWVYdLP3vkg8BlJrwC+BfwmcCZwr6QbgSPA9gm3YWZmJfFn76wD\nxzvD13W8Yzaaus/TNzOzFnHTr0j6uWJW9wQqlfr+S7m+lGsrg5u+mdkUcaa/DpzpD1/Xmb7ZaJzp\nm5nZyNz0K5J+rpjVPYFKpb7/Uq4v5drK4KZvZjZFnOmvA2f6w9d1pm82Gmf6ZmY2Mjf9MQ36jPzZ\n2Q4wDbliVvcEKpX6/ku5vpRrK8Okn70ztZY/I3/leNu/HMXMUuZMf0xryZud6Q9f15m+2Wic6ZuZ\n2cjc9CuSfq6Y1T2BSqW+/1KuL+XayuBM3xpgUwJfFG/WDs70xzQ4b/4x4KU+43Xn5uu9vWrraPPv\njtkkas/0JZ0h6auS7i+WN0vaJ+k5SQ9KOnvSbbTLS+SNqvdmZtYMZWT6NwMHepZ3AA9HxKXAI8DO\nErbRQlndE6hYVvcEKpV6LpxyfSnXVoaJmr6k84FfAe7sGb4OuLv4+W7g+km2YbbapoEXxZnZ6U2U\n6Uu6D/jPwNnAhyPi3ZJejIjNPeu8EBGv6fPYRDP9ZmfhzZxbOXW0+ffJbFSTZvpjn70j6Z8DixGx\nX1L3NKsO/Jc4Pz9Pp9MBYGZmhrm5Obrd/KmWXqKt5/J73nMDL764uGqeW7ZsZe/ehVPWz2VAt+dn\nVtxHn/uHrT/o8W3b3qSPX/v2siyr9ffHy16uYjnLMhYWFgBO9stJjH2kL+m/AP8GOAG8EvgnwF8A\nVwDdiFiUNAs8GhHb+jy+cUf65V5lm7HckJp9hDzeuhmnr6/dR/q9f0BSlHJ9KdcGNZ69ExEfjYgL\nI+Ji4AbgkYj4DeCLwHyx2vuAL4y7DTMzK1cp5+lLegfLmf5rgHuBC4AjwPaI+EGfxyR+pD9sbL3X\nbfLcmnekb9ZUkx7p++KsHu274MpNv3esab9PZlWo/eKs6TDOBVdZlRNqgKzuCayw+jTOSU7lTP1c\n75TrS7m2Mkxl0x/0BSjWZv3+MEfxvQdmtmQq45215fGDxtu2bpPnVm0djn0sJY53zE7LV++a9XLT\nr0xW9wQqltU9gRGtjn1GiXxSz4VTri/l2srgpm9mNkWSz/RnZzsDjuychbdz3XK255zf2srn6Q/f\nDk1oMvWv2+S5uembjcpv5DZWVvcEKpbVPYFKpZ4Lp1xfyrWVwU3fzGyKON4Ze7xt6zZ5bo53zEbl\neKfgq2zNzIZLpunnZ+isvgy/PlmN214PWd0TqFTquXDK9aVcWxmSafpmZjZcMpl+dZ9vX8ZzNGHd\nJs9tvevo/1HZW7Zs5fjxw32ew6w5avuOXLP2WvpohlMtLvo9IEvf2PGOpPMlPSLp65KelfTBYnyz\npH2SnpP0oKSzy5tum2R1T6BiWd0TqMD0fDhbyrl3yrWVYZJM/wTwoYh4A/BPgQ9IugzYATwcEZcC\njwA7J5+m2Xro/XC2Rxn1w9nM2qS0TF/S54E/LG7viIhFSbNAFhGX9VnfmX7rsvAmrLv+c/M5/dYk\njThPX1IHmAMeB7ZExCJARBwHzi1jG2ZmNrmJ38iVdBbwWeDmiPgHSSsPiwYeJs3Pz9PpdACYmZlh\nbm6ObrcLLOdyoy7nMqDb8zMr7qPP/eOuP2x7t5P/HVzr9gZtf9j2Bj1/VdsbVt+wxw+a37jrl729\npfo29b3Ib/PmLXzuc3vH/n2te/n222+f6N9bk5d7M/0mzKeMehYWFgBO9stJTBTvSNoA/CXwpYj4\nZDF2EOj2xDuPRsS2Po9NPN7JWG4oTYgpyt5exunra0sdg8Yz8voGr9vm2CfLshUHTOlIuTaYPN6Z\ntOl/GvheRHyoZ2w38EJE7Jb0EWBzROzo89jEm37T1m3y3NpYh8/1t3rU1vQlvR34n8CzLJ/y8FHg\nSeBe4ALgCLA9In7Q5/Fu+lPZLFOuIx9v8ysAa74kvkTlvvv+nL/6qydWrXPttVdxzTVXjfp8NKvJ\nZDjeaUMdg8YzhsU7bW76KUcgKdcGkzf9RlyR++EP7+Lo0auB2Z7Rb/LYY7eN3PTNzGy4RhzpX3jh\nGzl6dC/wxp41HuKKK27jqaceGvX5aPeRZdXrNnluqdSRj7fhSN/aqxHn6ZuZWTu46Vcmq3sCFcvq\nnkDFsronUKmUP58m5drK0Mqm3+9bsszMbLhGvJG7VsvfktWraY2/W/cEKtatewIV69Y9gUqlfHZL\nyrWVoZVH+mZmNh43/cpkdU+gYlndE6hYNubj2vGZ/Cnn3inXVoZWxjtmzbX6W7n8jVzWJI0+T3/D\nhn/FiRN/P+AZfF6462jauoOfw+fuW1mSuCJ3kLzhD/qHZWZma+VMvzJZ3ROoWFb3BCqWlfhcq3P+\nurP+lHPvlGsrQ6OP9M3SsDrnB2f9Vo9GZ/pwNU3Oadu1bpPnlkoda38OZ/22Vv7sHbOE9LvavIwo\nqKrntfaprOlLulbSNyR9s/gGrSmT1T2BimV1T6Bi2TpsY3XWv3y1+am3xcXjEzXs1c/7aPG8R8ou\nqnbO9E+vkqYv6QzgD4FrgDcAvy7psiq21Vz7655AxVzf5Jay/t7b6OtO1rBPX1+/VwZteVWwf3/q\nv5uTqepI/0rgUEQciYiXgb3AdRVtq6FWfUNkYlxfu52+vn6vOJr8qqD3j9Qtt9zSuj9U66mqpn8e\ncLRn+dvFmJlZ6U79I7WLNvyhqksjTtncuPEVnHXWBzjjjFefHDtx4rv88Ic1Tmpih+ueQMUO1z2B\nih2uewJjm53tjNDsDhf/3VTJR5MPmsOWLVs5fvzw6geUqurnb7dKTtmU9DbgYxFxbbG8A4iI2N2z\njs9VMzMbwySnbFbV9M8EngPeCfwt8CTw6xFxsPSNmZnZyCqJdyLiHyX9NrCP/H2Du9zwzczqV9sV\nuWZmtv5quSI3xQu3JB2W9NeSnpb0ZDG2WdI+Sc9JelDS2XXPcxSS7pK0KOmZnrGBtUjaKemQpIOS\nrq5n1qMbUN8uSd+W9NXidm3PfW2r73xJj0j6uqRnJX2wGE9iH/ap73eK8dbvQ0mbJD1R9JFnJe0q\nxsvbdxGxrjfyPzT/G9gKvIL8KpHL1nseFdT1LWDzirHdwH8qfv4IcGvd8xyxlp8H5oBnhtUCXA48\nTR4Vdop9q7prGKO+XcCH+qy7rYX1zQJzxc9nkb+/dlkq+/A09SWxD4FXFf89E3ic/Lqn0vZdHUf6\nqV64JVa/croOuLv4+W7g+nWd0Zgi4jHgxRXDg2p5N7A3Ik5ExGHgEPk+bqwB9UH/L2q4jvbVdzwi\n9hc//wNwEDifRPbhgPqWrgNq/T6MiKWT1TeRN/OgxH1XR9NP9cKtAB6S9JSkf1+MbYmIRch/UYFz\na5vd5M4dUMvK/XmM9u7P35a0X9KdPS+fW12fpA75q5rHGfz72Noae+p7ohhq/T6UdIakp4HjwEMR\n8RQl7jt/ymZ53h4RbwV+BfiApF9g9YeppPSueUq1ANwBXBwRc+T/2D5R83wmJuks4LPAzcURcVK/\nj33qS2IfRsSPIuIt5K/OrpT0Bkrcd3U0/WPAhT3L5xdjrRYRf1v897vA58lfYi1K2gIgaRb4Tn0z\nnNigWo4BF/Ss18r9GRHfjSIkBf6Y5ZfIraxP0gbyhvgnEfGFYjiZfdivvtT2YUT8PfnHvV5Lifuu\njqb/FHCJpK2SNgI3APfXMI/SSHpVcdSBpB8n//aXZ8nrmi9Wex/whb5P0Ezi1Hx0UC33AzdI2ijp\nIuAS8ovxmu6U+op/SEveA3yt+Lmt9X0KOBARn+wZS2kfrqovhX0o6SeWYilJrwSuIn/Porx9V9O7\n09eSv+N+CNhR97vlJdRzEflZSE+TN/sdxfhrgIeLWvcBM3XPdcR67gH+hvzzfJ8HfhPYPKgWYCf5\nWQMHgavrnv+Y9X0aeKbYj58nz1DbWt/bgX/s+Z38avFvbuDvY5tqPE19rd+HwJuKevYXtfxuMV7a\nvvPFWWZmU8Rv5JqZTRE3fTOzKeKmb2Y2Rdz0zcymiJu+mdkUcdM3M5sibvpmZlPETd/MbIr8f1FL\ng7eJ4bomAAAAAElFTkSuQmCC\n",
      "text/plain": [
       "<matplotlib.figure.Figure at 0x8d5c438>"
=======
      "image/png": "iVBORw0KGgoAAAANSUhEUgAAAX0AAAEACAYAAABfxaZOAAAABHNCSVQICAgIfAhkiAAAAAlwSFlz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\n",
      "text/plain": [
       "<matplotlib.figure.Figure at 0x7fe8d3185da0>"
>>>>>>> b58367a60ae1ddb8e25ab4d55a29b4dbd29b3ca1
      ]
     },
     "metadata": {},
     "output_type": "display_data"
    }
   ],
   "source": [
    "un_clarify_df['title_len'].hist(bins=50)\n",
    "plt.show()"
   ]
  },
  {
   "cell_type": "code",
<<<<<<< HEAD
   "execution_count": 51,
   "metadata": {
    "collapsed": false
=======
   "execution_count": 32,
   "metadata": {
    "collapsed": false,
    "scrolled": true
>>>>>>> b58367a60ae1ddb8e25ab4d55a29b4dbd29b3ca1
   },
   "outputs": [
    {
     "data": {
<<<<<<< HEAD
      "image/png": "iVBORw0KGgoAAAANSUhEUgAAAX0AAAEACAYAAABfxaZOAAAABHNCSVQICAgIfAhkiAAAAAlwSFlz\nAAALEgAACxIB0t1+/AAAGxxJREFUeJzt3X+MHOd93/H3h1RERXIj0k3ENXiOjoFimwoQnA2EbaEW\nOSCuIheoaaSAoDpAdTEMFFAcWzHQmsw/PBcFFEWwoQCF/okdk0ltKIqBWnKRypQgL1C7sKTWukgx\nGZVFRP24mmu18o9IjFRJ/PaPnd1nb2/2bu/22Zu5nc8LWHDn2dndZ783/O6z33lmRhGBmZk1w56q\nO2BmZjvHSd/MrEGc9M3MGsRJ38ysQZz0zcwaxEnfzKxBNk36kvZJelzSU5KekXSyaD8g6YykZyV9\nQ9K1A885Iem8pHOSbp7mBzAzs/FpnHn6kq6OiEuS9gLfBj4J/Avg/0bEH0j6DHAgIo5LuhH4MvAr\nwBzwKPCL4QMCzMwqN1Z5JyIuFXf3AVcAARwDThftp4GPFPc/DNwfEW9FxAXgPHA0V4fNzGz7xkr6\nkvZIegq4CDwSEU8CByOiAxARF4HritUPAS8OPH21aDMzs4qNO9K/HBHvp1uuOSrpl+iO9teslrtz\nZmaW1xVbWTkifiKpDdwCdCQdjIiOpBbwg2K1VeDdA0+bK9rWkOQvCTOzbYgIbfe548ze+dnezBxJ\nPw38U+Ac8BCwVKx2O/Bgcf8h4DZJV0o6DNwAPDGi475FcPLkycr7UJebY+FYOBYb3yY1zkj/XcBp\nSXvofkn8WUT8haTvAA9I+hjwPHBrkcjPSnoAOAu8CdwROXo6wy5cuFB1F2rDsUgci8SxyGfTpB8R\nzwAfKGl/BfjgiOfcBdw1ce/MzCwrH5FbA0tLS1V3oTYci8SxSByLfMY6OGsqbyy56mNmtkWSiGnu\nyLXpa7fbVXehNhyLxLFIHIt8nPTNzBrE5R0zs13E5R0zMxubk35FWnMtJK25teZaVXercq7dJo5F\n4ljks6XTMFg+ndUOLBcLzwGHobPcqbBHZtYErulXRFJK+j3LZDnM2sxml2v6ZmY2Nif9Oniu6g7U\nh2u3iWOROBb5OOmbmTWIa/oVyV3Tb821ujuHBxw8dJCLL13c1uuZWT1NWtP37J2aGzeZr5kN1Gvz\nbCAzG+LyTh1sUNPvJ/OB2/CXwCxx7TZxLBLHIh8nfTOzBnHSr4PDVXegPhYXF6vuQm04FoljkY+T\nvplZgzjp14Hn6fe5dps4FoljkY+TvplZgzjp14Fr+n2u3SaOReJY5OOkb2bWIE76deCafp9rt4lj\nkTgW+Tjpm5k1iJN+Hbim3+fabeJYJI5FPk76ZmYN4qRfB67p97l2mzgWiWORj5O+mVmDbJr0Jc1J\nekzS9yQ9I+l3ivaTkl6S9N3idsvAc05IOi/pnKSbp/kBZoJr+n2u3SaOReJY5DPO+fTfAj4dESuS\n3gH8D0mPFI99PiI+P7iypCPArcARYA54VNIvNvqKKWZmNbHpSD8iLkbESnH/VeAccKh4uOzqLceA\n+yPirYi4AJwHjubp7oxyTb/PtdvEsUgci3y2VNOXNA8sAI8XTZ+QtCLpC5KuLdoOAS8OPG2V9CVh\nOeztXjJt8GZmNo6xk35R2vkq8KlixH8f8AsRsQBcBD43nS7ufq251sZJeqs1/bdZdzWtWeHabeJY\nJI5FPmNdI1fSFXQT/p9GxIMAEfHywCp/BHy9uL8KvHvgsbmibZ2lpSXm5+cB2L9/PwsLC/0/bu/n\n3Cwsd1Y7cHvxoXsJfpluWae3PFTiWfdztvf48PqHh9bZ5PXqEA8ve9nL4y+3221OnToF0M+Xk9A4\n+1cl/QnwfyLi0wNtrYi4WNz/XeBXIuKjkm4Evgz8A7plnUeAdTtyJTVm366k9aPxZVJbL1kvw3BM\nNn3uJm27Lcbtdru/4TedY5E4FokkImLbNd1NR/qSbgJ+E3hG0lNAAL8HfFTSAnAZuAD8a4CIOCvp\nAeAs8CZwR2Oyu5lZzW2a9CPi28Dekoce3uA5dwF3TdCvZql4nn5rrtUtQQ04eOggF1+6uON98Wgu\ncSwSxyKfsWr6Nts6q511paHOcqd0XTPb3XwahjrwPP2+3g4scywGORb5OOmbmTWIk34d+Nw7fa7d\nJo5F4ljk46RvZtYgTvp14Jp+n2u3iWOROBb5OOlbuZLz+7TmWlX3yswm5CmbdVDHmn7v/D4DdmIa\np2u3iWOROBb5eKRvZtYgTvp14Jp+n2u3iWOROBb5OOmbmTWIk34d7GBNf9Nz+1fMtdvEsUgci3y8\nI7dhys6zM0sXYTGzjXmkXweu6fe5dps4FoljkY+TvplZgzjp10Ed5+lXxLXbxLFIHIt8nPTNzBrE\nST+zbc2OcU2/z7XbxLFIHIt8PHsnM8+OMbM680i/DlzT73PtNnEsEsciHyd9M7MGcdKvA9f0+1y7\nTRyLxLHIx0nfzKxBnPTrwDX9PtduE8cicSzycdI3M2sQJ/06cE2/z7XbxLFIHIt8nPRtImUHo/la\numb15YOz6mAX1/TLDkab5Fq6rt0mjkXiWOTjkb6ZWYNsmvQlzUl6TNL3JD0j6ZNF+wFJZyQ9K+kb\nkq4deM4JSeclnZN08zQ/wExwTb/PtdvEsUgci3zGGem/BXw6In4J+EfAb0t6H3AceDQi3gs8BpwA\nkHQjcCtwBPgQcJ/qdk0+M7OG2jTpR8TFiFgp7r8KnAPmgGPA6WK108BHivsfBu6PiLci4gJwHjia\nud+zZRfX9HNz7TZxLBLHIp8t1fQlzQMLwHeAgxHRge4XA3Bdsdoh4MWBp60WbWZmVrGxZ+9Iegfw\nVeBTEfGqpBhaZXh5U0tLS8zPzwOwf/9+FhYW+t/ovRreblvu69XpD49Y7rUdprSmP9HrDT5e0etN\nEr/FxcXa/D2rXF5ZWeHOO++sTX+qXL733ntnIj9sZ7ndbnPq1CmAfr6chCI2z9WSrgD+M/BfIuIP\ni7ZzwGJEdCS1gG9GxBFJx4GIiLuL9R4GTkbE40OvGeO8924jqfx8+hu19ZLrMgzHZFuvN9BW1ett\n92/bbrf7G37TORaJY5FIIiK2vZ903PLOHwNnewm/8BCwVNy/HXhwoP02SVdKOgzcADyx3Q42gmv6\nff6PnTgWiWORz6blHUk3Ab8JPCPpKbplnN8D7gYekPQx4Hm6M3aIiLOSHgDOAm8Cd8zkkN7MbBca\nZ/bOtyNib0QsRMT7I+IDEfFwRLwSER+MiPdGxM0R8aOB59wVETdExJGIODPdjzADpjVPfy9bv17v\nlN533FMzrNtX0GCOReJY5OPTMMyyt6nmer0l7zvJqRnMLB+fhqEOXNPvc+02cSwSxyIfJ30zswZx\n0q+DXk2/qhp8jbh2mzgWiWORj2v6dVJVDd7MGsMj/TpwTb/PtdvEsUgci3yc9M3MGsRJvw58Pv0+\n124TxyJxLPJx0jczaxAn/TpwTb/PtdvEsUgci3yc9M3MGsRJvw5c0+9z7TZxLBLHIh/P07fxFQeP\nmdnu5aRfB7ulpr8DB4+5dps4FoljkY/LO2ZmDeKkXweu6fe5dps4FoljkY+TvplZgzjp18Fuqenv\nANduE8cicSzycdI3M2sQJ/06cE2/z7XbxLFIHIt8nPTNzBrESb8OXNPvc+02cSwSxyIfJ30zswZx\n0q8D1/T7XLtNHIvEscjHSd/MrEGc9OvANf0+124TxyJxLPJx0h9Ta66FpDW31lyr6m6ZmW2Jk/6Y\nOqud7hklB26d1U6eF3dNv8+128SxSByLfDZN+pK+KKkj6emBtpOSXpL03eJ2y8BjJySdl3RO0s3T\n6riZmW3dOCP9LwG/XtL++Yj4QHF7GEDSEeBW4AjwIeA++aobm3NNv8+128SxSByLfDZN+hHxLeCH\nJQ+VJfNjwP0R8VZEXADOA0cn6qGZmWUzSU3/E5JWJH1B0rVF2yHgxYF1Vos224hr+n2u3SaOReJY\n5LPdyyXeB/y7iAhJ/x74HPDxrb7I0tIS8/PzAOzfv5+FhYX+z7jeH7kuy0A3OR8euD9g3UbZe3x4\n/cND64x4vZHLu/X19qy/vu6Bnz3AKy+/AqyPX9V/7zosr6ys1Ko/VS6vrKzUqj87udxutzl16hRA\nP19OQhGx+UrS9cDXI+KXN3pM0nEgIuLu4rGHgZMR8XjJ82Kc964LSaXXhx3+DKPWc1t5227aBszq\nQBIRse19peOWd8RADV/S4AT13wD+qrj/EHCbpCslHQZuAJ7YbufMzCyvcaZsfgX4b8B7JL0g6beA\nP5D0tKQV4FeB3wWIiLPAA8BZ4C+AO3bVcL4qrun3uXabOBaJY5HPpjX9iPhoSfOXNlj/LuCuSTpl\nZmbT4SNy68Dz9Ps8HztxLBLHIh8nfTOzBnHSrwPX9Ptcu00ci8SxyMdJ38ysQbZ7cJYB7F1/wNG2\nuKbf59pt4lgkjkU+TvqTeJvyg5DMzGrK5Z06cE2/z7XbxLFIHIt8nPTNzBrESb8OXNPvc+02cSwS\nxyIfJ30zswZx0q8D1/T7XLtNHIvEscjHSd/MrEGc9OvANf0+124TxyJxLPJx0jczaxAn/TpwTb/P\ntdvEsUgci3yc9M3MGsRJvw5c0+9z7TZxLBLHIh8nfTOzBnHSrwPX9Ptcu00ci8SxyMdJ38ysQZz0\n68A1/T7XbhPHInEs8nHSNzNrECf9OnBNv8+128SxSByLfJz0zcwaxEm/DlzT73PtNnEsEsciHyd9\nM7MGcdKvg6bW9PeCpDW3d/7cO6vuVW24jp04FvlcUXUHrMHeBpbXNv1w+YdV9MSsMTYd6Uv6oqSO\npKcH2g5IOiPpWUnfkHTtwGMnJJ2XdE7SzdPq+DS15lrrRqBT5Zq+lXAdO3Es8hmnvPMl4NeH2o4D\nj0bEe4HHgBMAkm4EbgWOAB8C7tPUM2Z+ndVOdwQ6eDMzmwGbJv2I+BYw/Jv7GHC6uH8a+Ehx/8PA\n/RHxVkRcAM4DR/N0dYY1taZvG3IdO3Es8tnujtzrIqIDEBEXgeuK9kPAiwPrrRZtZmZWA7l25MZ2\nnrS0tMT8/DwA+/fvZ2FhoV+7632zV7XcH30P1tufG1geHp2PWh5ev+z1Dmd+vdz928nXK2b0DDp4\n6CD3/8f7geq2h6qWe+rSn8r+PxZtdenPTi63221OnToF0M+Xk1DE5vla0vXA1yPil4vlc8BiRHQk\ntYBvRsQRSceBiIi7i/UeBk5GxOMlrxnjvHcVJK2v4y/jtgrb6rqtmO00SUTEtveVjlveUXHreQhY\nKu7fDjw40H6bpCslHQZuAJ7YbucawzV9K+E6duJY5LNpeUfSV4BF4O9LegE4Cfw+8OeSPgY8T3fG\nDhFxVtIDwFngTeCO2g7nbSz77oE3XhtoWC7ar4E3/k0VPTKzSWya9CPioyMe+uCI9e8C7pqkU41T\n43n6b7xWvsNGr5U0Wlaem544Fvn4NAxmZg3ipF8HM1TT33dPcWd57W1fNd3Z1VzHThyLfHzuHctq\nZDlox3tiZmU80q+DGtf0rTquYyeORT5O+mZmDeKkXwczVNO3fFzHThyLfJz0zcwaxDty62AHa/r7\ngDeWS9rv8cFWdeM6duJY5OOk3zBv4IOtzJrM5Z06cE3fSriOnTgW+Tjpm5k1iJN+HXievpVwHTtx\nLPJx0jczaxAn/TpwTd9KuI6dOBb5OOmbmTWIp2zWwS6s6a+Z7788ej3bPtexE8ciHyd925aR8/13\nuiNmtiUu79SBa/pWwnXsxLHIx0nfzKxBXN6pgxrU9EvPyTO8bDvKdezEscjHSd8A1+jNmsLlnTpw\nTd9KuI6dOBb5OOmbmTWIk34d1KCmb/XjOnbiWOTjpG9m1iBO+nXgmv7G9oKkNbfWXKvqXk2d69iJ\nY5GPZ+9Y/b3NuumjneVOFT0x2/Wc9OugATX93Xht3tZci87q2i+Xg4cOcvGlizvy/q5jJ45FPhMl\nfUkXgB8Dl4E3I+KopAPAnwHXAxeAWyPixxP203a5qq7NO0ni7qx2/AvDZs6kNf3LwGJEvD8ijhZt\nx4FHI+K9wGPAiQnfY/a5pp9Fa661rvbfT9wDt+EvgbpyHTtxLPKZtLwj1n9xHAN+tbh/GmjT/SKw\nHbTvnu7oukmnUigbmTfp85uNY9KRfgCPSHpS0seLtoMR0QGIiIvAdRO+x+ybQk3/jde6f5zhm+0e\nrmMnjkU+k470b4qI70v6OeCMpGdZn1uca8zMamKipB8R3y/+fVnS14CjQEfSwYjoSGoBPxj1/KWl\nJebn5wHYv38/CwsL/W/0Xg2vquV+nX1wFP7cwPJwHX7U8vD6Za9XVtOf5PUKbWBx4P6g3vLiUFtV\n62/n87bb7XV/v3Ffb9ztYdTr7cT2uLKywp133rlj71fn5XvvvbdW+WEnl9vtNqdOnQLo58tJKGJ7\nA3FJVwN7IuJVSdcAZ4DPAr8GvBIRd0v6DHAgItbV9CXFdt972iSV14an1dZL1jnfY3n0WTPr1j7c\n73E/7/D2s5W/2zjb3qjX26ntdvBLrekci0QSEbHtE+BOMtI/CPwnSVG8zpcj4oyk/w48IOljwPPA\nrRO8RzM0YJ5+dsVRurPMSS5xLPLZdtKPiOeAhZL2V4APTtIps02VHKXrmTpmm/O5d+qgwfP098Ha\nefTF8r57KulOrXhueuJY5NP4pF92QI/tnN6Rur3bN4t/35jykbpmTdX4c+/U4oAe1/T7FnfiTUr2\nB+zkOXXG5Tp24ljk0/ikbw20wVk751stnu8MnKahWG/fNfU9MZzZVjjp18HQ/Pqt2HfPQClkOVN/\nKtSmO9pfd1bO4v60k+/znU4lJ4Yr42mKiWORj5P+Ltc73cKw3b5nYtRZOa96jTU7fHv2XVOca8jM\nNtT4Hbm14Jp+3+Imjw/v+O3dqtzxWzYZIMeVvTyyTRyLfDzSN9uKUQeFLa9d9Hn3ra480q+DBs/T\nH9au6o3HPcK3txN48DYlnpueOBb5OOmbQfkRvmYzyOWdOhio6a+ZjdOz3Jwpg4tVd6BGXMdOHIt8\nnPRrZuRsHB+huqF9lF8prN9uZoDLO/Xgmn5fe5vPGzmrJ0+3KuE6duJY5OOR/i4x6mAl2xlr4r88\n0O7jA2yXcdKvgzHm6Y86WGm3H4Q1bLHqDowwMv5TLLu5jp04Fvm4vGNm1iAe6dfBBOfemTVt8o72\n15XFClctw+vDjSXrjfX6Jc/dt/WXWsfnm0kci3w80reZNmoH7+sj2nO9PrDu1AySmG9NfnoGs0k0\nKunX9oIpHuX3LVbdgUxGfRmsOW0zG5+3xyPbxLHIp1HlnSoumLLvnvKf/1cBr0/5va3+Oqud7gyg\n19a2SVpzjEEdL/Jiu1OjRvpV6B1stVF54Ztsv7wwa9pVd6ACo7aR/mBhuRiwDJnW2T3ryPP082nU\nSN9slpT9cvXZPW0zTvqZTHIFq8XMfdnNFqvuQF2NexbQGeWafj5O+pnM6hWsrCbKzgI6vGw2Bif9\nGmjjEW5Pm9mPxaQj9lG/Kmf5lBCep59P45P+qIN39t1Tfirjdac+Lnmu2YaWR9wfk8/EapNofNLf\n6jlVplHGWZzgubNmseoOTNmoQUa212b9L4mr9+zhtbffns6b7hCP8vOpTdK/cOECly5dWtf+rne9\niwMHDmz59VpzrdJpbuMq/c85vGy2RWWDjFz7fUYOYC5fzvQONgumlvQl3QLcS/dYgC9GxN2j1n3h\nhRe48T3vYf6qq9a0v375ModuuIH/urKy4XuNTPDLmyxvYCfPatlm9ke442rjWPT8FPDm8kDDcvl6\nm9lH+X6E4QvM1PkAMNf085lK0pe0B/gPwK8B/xt4UtKDEfHXZetfunSJn7/qKs7+7d+uaf9L4F/9\n6Eebvt84R9qOOjK2DlZwoutxLJI3yTPw2HAAs5yW6zzHf2VlxUk/k2mN9I8C5yPieQBJ9wPHgNKk\nP65XXnmFF154YU3bVUO/Dkap85TKzb/WmsOxqK/5VmvduYMArj94kAsXp/sL4UdjDP5sPNNK+oeA\nFweWX6L7RbBlf/Pii6U/TX96j/ipd/89/q7zd2vaJzlIyqzRSg4A23PlHi7/v7RPoHTgVPJFAHDN\n3r1cKtmfsBNfEjZaLXbkXnHFFbz0+uv885/5mTXtP758mVdffbV0Q7vqcvCT53+SGpa7/+zGK0xd\nqLoDNXKh6g40yMjpytek6cqXly+nwVPJur3XGXXswThfEr19cqMuYn/1nj1cunyZz372s2vaR315\n5PpFUuUvm2lSRP7TfEn6h8ByRNxSLB8HYnBnriSfX8zMbBsiYtvj2Gkl/b3As3R35H4feAL4lxFx\nLvubmZnZ2KZS3omItyV9AjhDmrLphG9mVrGpjPTNzKyeKrmIiqRbJP21pP8p6TNV9KFKki5I+ktJ\nT0l6omg7IOmMpGclfUPStVX3cxokfVFSR9LTA20jP7ukE5LOSzon6eZqej0dI2JxUtJLkr5b3G4Z\neGwmYyFpTtJjkr4n6RlJnyzaG7ddlMTid4r2fNtFROzoje4Xzf8Crqd70OEK8L6d7keVN+BvgAND\nbXcD/7a4/xng96vu55Q++z8GFoCnN/vswI3AU3TLkPPFdqOqP8OUY3ES+HTJukdmNRZAC1go7r+D\n7v7A9zVxu9ggFtm2iypG+v0DtyLiTaB34FaTiPW/so4Bp4v7p4GP7GiPdkhEfAv44VDzqM/+YeD+\niHgrIi4A59nm8R51NCIWUD7D+BgzGouIuBgRK8X9V4FzwBwN3C5GxOJQ8XCW7aKKpF924NahEevO\nqgAekfSkpI8XbQcjogPdPzxwXWW923nXjfjsw9vKKs3YVj4haUXSFwZKGo2IhaR5ur9+vsPo/xNN\ni8XjRVOW7cIXRq/GTRHxAeCfAb8t6Z+w/jiWJu9hb/Jnvw/4hYhYAC4Cn6u4PztG0juArwKfKka5\njf0/URKLbNtFFUl/Ffj5geW5oq0xIuL7xb8vA1+j+3OsI+kggKQW8IPqerjjRn32VeDdA+vN/LYS\nES9HUawF/oj0U32mYyHpCrpJ7k8j4sGiuZHbRVkscm4XVST9J4EbJF0v6UrgNuChCvpRCUlXF9/i\nSLoGuBl4hm4MlorVbgceLH2B2SDW1idHffaHgNskXSnpMHAD3QP9ZsmaWBTJrec3gL8q7s96LP4Y\nOBsRfzjQ1tTtYl0ssm4XFe2hvoXuXunzwPGq95jv8Gc/THfG0lN0k/3xov2dwKNFXM4A+6vu65Q+\n/1fonm77DeAF4LeAA6M+O3CC7oyEc8DNVfd/B2LxJ8DTxTbyNbp17ZmOBXAT3Uu/9/5ffLfIESP/\nTzQwFtm2Cx+cZWbWIN6Ra2bWIE76ZmYN4qRvZtYgTvpmZg3ipG9m1iBO+mZmDeKkb2bWIE76ZmYN\n8v8BjJqEL5zagtUAAAAASUVORK5CYII=\n",
      "text/plain": [
       "<matplotlib.figure.Figure at 0x9118400>"
      ]
     },
     "metadata": {},
     "output_type": "display_data"
    },
    {
     "data": {
      "image/png": "iVBORw0KGgoAAAANSUhEUgAAAX0AAAEACAYAAABfxaZOAAAABHNCSVQICAgIfAhkiAAAAAlwSFlz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\nvplZhbjpm5lViJu+mVmF/D8hNpQ78KPNogAAAABJRU5ErkJggg==\n",
      "text/plain": [
       "<matplotlib.figure.Figure at 0x90b8128>"
=======
      "text/plain": [
       "array([[<matplotlib.axes._subplots.AxesSubplot object at 0x7fe8d3026860>]], dtype=object)"
      ]
     },
     "execution_count": 32,
     "metadata": {},
     "output_type": "execute_result"
    },
    {
     "data": {
      "image/png": "iVBORw0KGgoAAAANSUhEUgAAAYMAAAEKCAYAAADw2zkCAAAABHNCSVQICAgIfAhkiAAAAAlwSFlz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\nAAAQxQAAIOn/AVxLiM61ZBBKAAAAAElFTkSuQmCC\n",
      "text/plain": [
       "<matplotlib.figure.Figure at 0x7fe8d2f9fc50>"
>>>>>>> b58367a60ae1ddb8e25ab4d55a29b4dbd29b3ca1
      ]
     },
     "metadata": {},
     "output_type": "display_data"
    }
   ],
   "source": [
<<<<<<< HEAD
    "fashion_df = train_df[train_df['category_lvl_1'] == 'Fashion']\n",
    "un_clar_fashion_df = fashion_df[fashion_df.clarity == '0']\n",
    "clar_fashion_df = fashion_df[fashion_df['clarity'] == '1']\n",
    "un_conc_fashion_df = fashion_df[fashion_df.conciseness == '0']\n",
    "conc_fashion_df = fashion_df[fashion_df.conciseness == '1']\n",
    "\n",
    "clar_fashion_df['title_len'].hist(bins=50,color='green')\n",
    "un_clar_fashion_df['title_len'].hist(bins=50, color='red')\n",
    "plt.show()\n",
    "\n",
    "un_conc_fashion_df['title_len'].hist(bins=50,color='red')\n",
    "conc_fashion_df['title_len'].hist(bins=50,color='green')\n",
    "plt.show()"
=======
    "train_df[train_df.conciseness == '1'].hist(bins=50)"
>>>>>>> b58367a60ae1ddb8e25ab4d55a29b4dbd29b3ca1
   ]
  },
  {
   "cell_type": "code",
<<<<<<< HEAD
   "execution_count": 37,
=======
   "execution_count": 34,
>>>>>>> b58367a60ae1ddb8e25ab4d55a29b4dbd29b3ca1
   "metadata": {
    "collapsed": false
   },
   "outputs": [
    {
     "data": {
<<<<<<< HEAD
      "text/html": [
       "<div>\n",
       "<table border=\"1\" class=\"dataframe\">\n",
       "  <thead>\n",
       "    <tr style=\"text-align: right;\">\n",
       "      <th></th>\n",
       "      <th>country</th>\n",
       "      <th>sku_id</th>\n",
       "      <th>title</th>\n",
       "      <th>category_lvl_1</th>\n",
       "      <th>category_lvl_2</th>\n",
       "      <th>category_lvl_3</th>\n",
       "      <th>short_description</th>\n",
       "      <th>price</th>\n",
       "      <th>product_type</th>\n",
       "      <th>clarity</th>\n",
       "      <th>conciseness</th>\n",
       "      <th>title_len</th>\n",
       "    </tr>\n",
       "  </thead>\n",
       "  <tbody>\n",
       "    <tr>\n",
       "      <th>41</th>\n",
       "      <td>my</td>\n",
       "      <td>NO037FAAA60MKQANMY</td>\n",
       "      <td>2016 New Arrive Women Four Seasons Flats Casua...</td>\n",
       "      <td>Fashion</td>\n",
       "      <td>Women</td>\n",
       "      <td>Shoes</td>\n",
       "      <td>&lt;ul&gt; &lt;li&gt;2016 women genuine leather flats shoe...</td>\n",
       "      <td>50</td>\n",
       "      <td>international</td>\n",
       "      <td>0</td>\n",
       "      <td>0</td>\n",
       "      <td>129</td>\n",
       "    </tr>\n",
       "    <tr>\n",
       "      <th>43</th>\n",
       "      <td>my</td>\n",
       "      <td>NO037FAAA8CLZ2ANMY</td>\n",
       "      <td>RUDY Dress</td>\n",
       "      <td>Fashion</td>\n",
       "      <td>Women</td>\n",
       "      <td>Clothing</td>\n",
       "      <td>&lt;ul&gt; &lt;li&gt;Short Sleeve&lt;/li&gt; &lt;li&gt;3 Colours 8 Siz...</td>\n",
       "      <td>33</td>\n",
       "      <td>local</td>\n",
       "      <td>0</td>\n",
       "      <td>0</td>\n",
       "      <td>10</td>\n",
       "    </tr>\n",
       "  </tbody>\n",
       "</table>\n",
       "</div>"
      ],
      "text/plain": [
       "   country              sku_id  \\\n",
       "41      my  NO037FAAA60MKQANMY   \n",
       "43      my  NO037FAAA8CLZ2ANMY   \n",
       "\n",
       "                                                title category_lvl_1  \\\n",
       "41  2016 New Arrive Women Four Seasons Flats Casua...        Fashion   \n",
       "43                                         RUDY Dress        Fashion   \n",
       "\n",
       "   category_lvl_2 category_lvl_3  \\\n",
       "41          Women          Shoes   \n",
       "43          Women       Clothing   \n",
       "\n",
       "                                    short_description price   product_type  \\\n",
       "41  <ul> <li>2016 women genuine leather flats shoe...    50  international   \n",
       "43  <ul> <li>Short Sleeve</li> <li>3 Colours 8 Siz...    33          local   \n",
       "\n",
       "   clarity conciseness  title_len  \n",
       "41       0           0        129  \n",
       "43       0           0         10  "
      ]
     },
     "execution_count": 37,
     "metadata": {},
     "output_type": "execute_result"
    }
   ],
   "source": [
    "un_clar_fashion_df.head(2)"
=======
      "text/plain": [
       "array([[<matplotlib.axes._subplots.AxesSubplot object at 0x7fe8d813bc50>]], dtype=object)"
      ]
     },
     "execution_count": 34,
     "metadata": {},
     "output_type": "execute_result"
    },
    {
     "data": {
      "image/png": "iVBORw0KGgoAAAANSUhEUgAAAYMAAAEKCAYAAADw2zkCAAAABHNCSVQICAgIfAhkiAAAAAlwSFlz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\n",
      "text/plain": [
       "<matplotlib.figure.Figure at 0x7fe8d7be1ef0>"
      ]
     },
     "metadata": {},
     "output_type": "display_data"
    }
   ],
   "source": [
    "train_df[train_df.conciseness == '0'].hist(bins=50)"
>>>>>>> b58367a60ae1ddb8e25ab4d55a29b4dbd29b3ca1
   ]
  },
  {
   "cell_type": "code",
<<<<<<< HEAD
   "execution_count": 72,
   "metadata": {
    "collapsed": true
   },
   "outputs": [],
   "source": [
    "#unify a list\n",
    "def uniqList(list1):\n",
    "    list2=[]\n",
    "    for i in list1:\n",
    "        if i not in list2:\n",
    "            list2.append(i)\n",
    "    return list2"
=======
   "execution_count": 37,
   "metadata": {
    "collapsed": false
   },
   "outputs": [],
   "source": [
    "cameras_df = train_df[train_df.category_lvl_1 == 'Cameras']"
>>>>>>> b58367a60ae1ddb8e25ab4d55a29b4dbd29b3ca1
   ]
  },
  {
   "cell_type": "code",
<<<<<<< HEAD
   "execution_count": 122,
=======
   "execution_count": 39,
>>>>>>> b58367a60ae1ddb8e25ab4d55a29b4dbd29b3ca1
   "metadata": {
    "collapsed": false
   },
   "outputs": [
    {
<<<<<<< HEAD
     "name": "stdout",
     "output_type": "stream",
     "text": [
      "['Fashion', 'Health & Beauty', 'TV, Audio / Video, Gaming & Wearables', 'Computers & Laptops', 'Cameras', 'Home & Living', 'Watches Sunglasses Jewellery', 'Mobiles & Tablets', 'Home Appliances']\n"
     ]
    }
   ],
   "source": [
    "categories=[]\n",
    "for i in range(len(train_df)):\n",
    "    cat=str(train_df['category_lvl_1'][i])\n",
    "    if  cat not in categories:\n",
    "        categories.append(cat)\n",
    "\n",
    "print(categories)"
=======
     "data": {
      "text/plain": [
       "array([[<matplotlib.axes._subplots.AxesSubplot object at 0x7fe8d7a41ef0>]], dtype=object)"
      ]
     },
     "execution_count": 39,
     "metadata": {},
     "output_type": "execute_result"
    },
    {
     "data": {
      "image/png": "iVBORw0KGgoAAAANSUhEUgAAAX0AAAEKCAYAAAD+XoUoAAAABHNCSVQICAgIfAhkiAAAAAlwSFlz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\ngQQMY8S2AAAAAElFTkSuQmCC\n",
      "text/plain": [
       "<matplotlib.figure.Figure at 0x7fe8d7b74be0>"
      ]
     },
     "metadata": {},
     "output_type": "display_data"
    }
   ],
   "source": [
    "cameras_df.hist(bins=50)"
>>>>>>> b58367a60ae1ddb8e25ab4d55a29b4dbd29b3ca1
   ]
  },
  {
   "cell_type": "code",
<<<<<<< HEAD
   "execution_count": 200,
   "metadata": {
    "collapsed": false
   },
   "outputs": [],
   "source": [
    "def genSeq(string):\n",
    "    strL=string.split()\n",
    "    seqs=[]\n",
    "    for i in range(len(strL)):\n",
    "        seq=[]\n",
    "        seq.append(strL[i])\n",
    "        seqs.append(list(seq))\n",
    "        \n",
    "        j=i+1\n",
    "        while j < len(strL):\n",
    "            seq.append(strL[j])\n",
    "            seqs.append(list(seq))\n",
    "            j+=1\n",
    "        \n",
    "    return seqs\n",
    "\n",
    "def lisToString(liste):\n",
    "    string=''\n",
    "    for i in liste:\n",
    "        string+=str(i)+' '\n",
    "    return string\n",
    "    \n",
    "def simString(string1, string2):\n",
    "    seqs1=genSeq(string1)\n",
    "    seqs2=genSeq(string2)\n",
    "    \n",
    "    sim={}\n",
    "    for seq1 in seqs1:\n",
    "        for seq2 in seqs2:\n",
    "            if seq1 == seq2:\n",
    "                sim[lisToString(seq1)]=len(seq1)\n",
    "    return sim\n",
    "    \n",
    "def similarity(string1, string2):\n",
    "    simseqs=simString(string1, string2)\n",
    "    \n",
    "    seqM=''\n",
    "    lenM=0\n",
    "    for seq, leng in simseqs.items():\n",
    "        if leng > lenM:\n",
    "            seqM = seq\n",
    "            lenM = leng\n",
    "            \n",
    "    lenm = min(len(string1.split()), len(string2.split()))\n",
    "    return lenM,seqM\n"
   ]
  },
  {
   "cell_type": "code",
   "execution_count": 201,
=======
   "execution_count": 65,
>>>>>>> b58367a60ae1ddb8e25ab4d55a29b4dbd29b3ca1
   "metadata": {
    "collapsed": false
   },
   "outputs": [
    {
<<<<<<< HEAD
     "name": "stdout",
     "output_type": "stream",
     "text": [
      "[['my'], ['my', 'name'], ['my', 'name', 'is'], ['my', 'name', 'is', 'James'], ['my', 'name', 'is', 'James', 'Bond'], ['name'], ['name', 'is'], ['name', 'is', 'James'], ['name', 'is', 'James', 'Bond'], ['is'], ['is', 'James'], ['is', 'James', 'Bond'], ['James'], ['James', 'Bond'], ['Bond']]\n",
      "{'James ': 1, 'Bond ': 1, 'is ': 1, 'James Bond ': 2}\n",
      "(2, 'James Bond ')\n"
     ]
    }
   ],
   "source": [
    "string1=\"my name is James Bond\"\n",
    "string2=\"James Bond is a spy\"\n",
    "print(genSeq(string1))\n",
    "print(simString(string1, string2))\n",
    "print(similarity(string1, string2))"
=======
     "data": {
      "text/plain": [
       "[Counter({'John': 2,\n",
       "          'Mary': 1,\n",
       "          'also': 1,\n",
       "          'football': 1,\n",
       "          'games': 1,\n",
       "          'likes': 3,\n",
       "          'movies': 1,\n",
       "          'to': 2,\n",
       "          'too': 1,\n",
       "          'watch': 2})]"
      ]
     },
     "execution_count": 65,
     "metadata": {},
     "output_type": "execute_result"
    }
   ],
   "source": [
    "import collections, re\n",
    "texts = ['John likes to watch movies. Mary likes too. John also likes to watch football games.']\n",
    "bagsofwords = [ collections.Counter(re.findall(r'\\w+', txt))\n",
    "            for txt in texts]\n",
    "bagsofwords"
>>>>>>> b58367a60ae1ddb8e25ab4d55a29b4dbd29b3ca1
   ]
  },
  {
   "cell_type": "code",
<<<<<<< HEAD
   "execution_count": 202,
=======
   "execution_count": 70,
>>>>>>> b58367a60ae1ddb8e25ab4d55a29b4dbd29b3ca1
   "metadata": {
    "collapsed": false
   },
   "outputs": [],
   "source": [
<<<<<<< HEAD
    "fashion_df = train_df[train_df['category_lvl_1'] == 'Fashion']\n",
    "\n",
    "\n",
    "#extract product names from title : \"usb charger for iphone\" => \"usb charger\"\n",
    "def extractProdNames(train_def_cat):\n",
    "    #create a list of string for every titles\n",
    "    liste=[]\n",
    "    for i in range(len (train_def_cat)):\n",
    "        title=str(train_df['title'][i])\n",
    "        liste.append(title)\n",
    "    \n",
    "    #group by longest common sequence\n",
    "    clusters=groupLongSeq(liste, seq_avg_lgt = 2)\n",
    "    \n",
    "    #extract the longest commmon sequence string : supposed to be product name\n",
    "    listProd=[]\n",
    "    for i in range(len(clusters)):\n",
    "        if len(clust[i]) > 1:\n",
    "            listProd.append(similarity(clust[i][0],clust[i][1])[1])\n",
    "        else:\n",
    "            listProd.append(clust[i][0])\n",
    "    return listProd\n",
    "    \n",
    "\n",
    "#group products by longest seq\n",
    "def groupLongSeq(listeStr, seq_avg_lgt = 2):\n",
    "    #create a matrix which values are length of longest common sequence between two titles\n",
    "    #for similarity of product with itself, choose value of average product name length\n",
    "    simMatrix=np.zeros((len(liste),len(liste)))\n",
    "    for i in range(len(liste)):\n",
    "        for j in range(len(liste)):\n",
    "            if i == j :\n",
    "                simMatrix[i][j] = seq_avg_lgt\n",
    "            else:\n",
    "                simMatrix[i][j] = similarity(liste[i],liste[j])[0]\n",
    "    pairList=[]\n",
    "    return groupSimMatrix(simMatrix, pairList,liste)\n",
    "\n",
    "\n",
    "def groupSimMatrix(simMatrix, pairList,liste):\n",
    "    length = simMatrix.shape[0]\n",
    "    \n",
    "    #stop recurrence once matrix is empty\n",
    "    if length == 0:\n",
    "        return pairList\n",
    "    valueMax=0\n",
    "    pair=[0]\n",
    "    #let s find the maximal similarity between 2 items\n",
    "    for j in range(1,length):\n",
    "        if simMatrix[0][j] > valueMax:\n",
    "            valueMax = simMatrix[0][j]\n",
    "    \n",
    "    #let's now examine the possible candidates for similarity:\n",
    "    for j in range(1,length):\n",
    "        if  valueMax == simMatrix[0][j]:\n",
    "            #is there another value for which similarity of candidates and other item is higher ?\n",
    "            isCandidate = 1\n",
    "            for i in range(1,length):\n",
    "                if simMatrix[i][j] > valueMax:\n",
    "                    isCandidate = 0\n",
    "            \n",
    "            #if not :\n",
    "            if isCandidate == 1:\n",
    "                pair.append(j)\n",
    "    \n",
    "    #find strings corresponding to matrix indexes\n",
    "    pairItem=[]\n",
    "    for i in pair:\n",
    "        pairItem.append(liste[i])\n",
    "    \n",
    "\n",
    "    #update matrix and list by removing the similar products found => reduce matrix for every recurrence\n",
    "    newMatrix=np.delete(simMatrix, pair, axis=0)\n",
    "    newMatrix=np.delete(newMatrix, pair, axis=1)\n",
    "    liste = [e for e in liste if e not in pairItem]\n",
    "    \n",
    "    pairList.append(pairItem)\n",
    "    return groupSimMatrix(newMatrix,pairList , liste)"
=======
    "texts = [cameras_df.title.str.cat(sep=' ')]\n",
    "bags_of_words = [ collections.Counter(re.findall(r'\\w+', txt)) for txt in texts]"
>>>>>>> b58367a60ae1ddb8e25ab4d55a29b4dbd29b3ca1
   ]
  },
  {
   "cell_type": "code",
<<<<<<< HEAD
   "execution_count": 203,
=======
   "execution_count": 78,
>>>>>>> b58367a60ae1ddb8e25ab4d55a29b4dbd29b3ca1
   "metadata": {
    "collapsed": false
   },
   "outputs": [
    {
<<<<<<< HEAD
     "name": "stdout",
     "output_type": "stream",
     "text": [
      "[['hello you there', 'you there come here'], ['you are a nuts', 'you there are a nuts'], ['you are hello']]\n",
      "['you there ', 'are a nuts ', 'you are hello']\n"
     ]
    }
   ],
   "source": [
    "liste=['hello you there', 'you are a nuts', 'you are hello', 'you there are a nuts', 'you there come here']\n",
    "clust=groupLongSeq(liste,2)\n",
    "print(clust)\n",
    "listProd=[]\n",
    "for i in range(len(clust)):\n",
    "    if len(clust[i]) > 1:\n",
    "        listProd.append(similarity(clust[i][0],clust[i][1])[1])\n",
    "    else:\n",
    "        listProd.append(clust[i][0])\n",
    "print(listProd)"
   ]
  },
  {
   "cell_type": "code",
   "execution_count": 198,
   "metadata": {
    "collapsed": false
   },
   "outputs": [],
   "source": [
    "def exportList(filename, listProd):\n",
    "    f = open (filename,\"w\") \n",
    "    for item in listProd:\n",
    "        f.write(str(item)+'\\n')\n",
    "    f.close()"
   ]
  },
  {
   "cell_type": "code",
   "execution_count": 199,
   "metadata": {
    "collapsed": false
   },
   "outputs": [],
   "source": [
    "listProd = extractProdNames(fashion_df)\n",
    "exportList('fashion_product_names.txt', listProd)"
=======
     "data": {
      "text/plain": [
       "[('Camera', 1191),\n",
       " ('for', 588),\n",
       " ('Black', 449),\n",
       " ('3', 421),\n",
       " ('HD', 362),\n",
       " ('2', 309),\n",
       " ('Lens', 299),\n",
       " ('with', 259),\n",
       " ('4', 249),\n",
       " ('Mini', 233),\n",
       " ('1', 228),\n",
       " ('Video', 218),\n",
       " ('DVR', 210),\n",
       " ('1080P', 201),\n",
       " ('Action', 185),\n",
       " ('Car', 185),\n",
       " ('Card', 183),\n",
       " ('Case', 176),\n",
       " ('Spy', 172),\n",
       " ('Waterproof', 165),\n",
       " ('Intl', 165),\n",
       " ('Hero', 160),\n",
       " ('Hidden', 160),\n",
       " ('Canon', 159),\n",
       " ('Mount', 157),\n",
       " ('Digital', 155),\n",
       " ('Cam', 147),\n",
       " ('For', 140),\n",
       " ('5', 139),\n",
       " ('GoPro', 138),\n",
       " ('intl', 133),\n",
       " ('Sports', 132),\n",
       " ('Nikon', 132),\n",
       " ('DV', 130),\n",
       " ('Camcorder', 130),\n",
       " ('Recorder', 126),\n",
       " ('Kit', 122),\n",
       " ('Gopro', 119),\n",
       " ('Sony', 116),\n",
       " ('Monopod', 115),\n",
       " ('Bag', 114),\n",
       " ('SD', 113),\n",
       " ('Night', 110),\n",
       " ('Tripod', 109),\n",
       " ('Adapter', 109),\n",
       " ('IP', 101),\n",
       " ('Vision', 95),\n",
       " ('Full', 95),\n",
       " ('0', 94),\n",
       " ('Micro', 94),\n",
       " ('6', 93),\n",
       " ('Sport', 92),\n",
       " ('Security', 91),\n",
       " ('DSLR', 86),\n",
       " ('Accessories', 86),\n",
       " ('Wireless', 84),\n",
       " ('Memory', 83),\n",
       " ('Wifi', 79),\n",
       " ('Filter', 78),\n",
       " ('TF', 75),\n",
       " ('720P', 74),\n",
       " ('WiFi', 71),\n",
       " ('and', 70),\n",
       " ('SJ4000', 69),\n",
       " ('18', 69),\n",
       " ('EXPORT', 69),\n",
       " ('Outdoor', 69),\n",
       " ('CCTV', 68),\n",
       " ('8GB', 68),\n",
       " ('in', 68),\n",
       " ('10', 67),\n",
       " ('USB', 67),\n",
       " ('Cover', 67),\n",
       " ('Silver', 67),\n",
       " ('8', 65),\n",
       " ('White', 65),\n",
       " ('Photo', 64),\n",
       " ('f', 60),\n",
       " ('Photography', 59),\n",
       " ('With', 58),\n",
       " ('Portable', 58),\n",
       " ('Class', 57),\n",
       " ('Protective', 57),\n",
       " ('Studio', 56),\n",
       " ('SJCAM', 55),\n",
       " ('Wide', 55),\n",
       " ('Set', 54),\n",
       " ('Angle', 54),\n",
       " ('Cameras', 54),\n",
       " ('16', 54),\n",
       " ('Dash', 53),\n",
       " ('Xiaomi', 52),\n",
       " ('Light', 52),\n",
       " ('16GB', 52),\n",
       " ('LCD', 51),\n",
       " ('IR', 51),\n",
       " ('Remote', 51),\n",
       " ('Blue', 50),\n",
       " ('amp', 50),\n",
       " ('WIFI', 50),\n",
       " ('Yi', 49),\n",
       " ('LED', 49),\n",
       " ('Holder', 48),\n",
       " ('Head', 48),\n",
       " ('Phone', 48),\n",
       " ('4K', 48),\n",
       " ('EOS', 47),\n",
       " ('Glasses', 46),\n",
       " ('X', 46),\n",
       " ('G', 45),\n",
       " ('Red', 45),\n",
       " ('32GB', 44),\n",
       " ('170', 44),\n",
       " ('7', 43),\n",
       " ('Degree', 42),\n",
       " ('Flash', 41),\n",
       " ('Motion', 41),\n",
       " ('New', 41),\n",
       " ('H', 41),\n",
       " ('Stand', 40),\n",
       " ('EF', 40),\n",
       " ('View', 40),\n",
       " ('Grip', 40),\n",
       " ('Strap', 40),\n",
       " ('SJ5000', 40),\n",
       " ('Fujifilm', 39),\n",
       " ('Selfie', 38),\n",
       " ('Control', 38),\n",
       " ('55mm', 38),\n",
       " ('Pro', 37),\n",
       " ('Handheld', 37),\n",
       " ('Aluminum', 37),\n",
       " ('Stick', 37),\n",
       " ('S', 36),\n",
       " ('P2P', 36),\n",
       " ('to', 36),\n",
       " ('Ultra', 35),\n",
       " ('Rear', 35),\n",
       " ('50mm', 35),\n",
       " ('Screen', 34),\n",
       " ('Background', 34),\n",
       " ('Olympus', 34),\n",
       " ('12MP', 33),\n",
       " ('Samsung', 33),\n",
       " ('Diving', 33),\n",
       " ('Reader', 33),\n",
       " ('Quick', 33),\n",
       " ('Zoom', 33),\n",
       " ('SDHC', 33),\n",
       " ('Surveillance', 32),\n",
       " ('E', 32),\n",
       " ('Housing', 32),\n",
       " ('Extendable', 32),\n",
       " ('Quadcopter', 32),\n",
       " ('Universal', 31),\n",
       " ('Release', 31),\n",
       " ('Backdrop', 31),\n",
       " ('II', 31),\n",
       " ('SLR', 31),\n",
       " ('Detection', 30),\n",
       " ('camera', 30),\n",
       " ('Leather', 30),\n",
       " ('Pink', 30),\n",
       " ('Panasonic', 29),\n",
       " ('Color', 29),\n",
       " ('Chest', 29),\n",
       " ('Ring', 29),\n",
       " ('Pole', 29),\n",
       " ('Eyewear', 29),\n",
       " ('64GB', 29),\n",
       " ('Monitor', 28),\n",
       " ('NEX', 28),\n",
       " ('Plate', 28),\n",
       " ('Screw', 28),\n",
       " ('Gold', 27),\n",
       " ('Cap', 27),\n",
       " ('Vehicle', 27),\n",
       " ('Professional', 27),\n",
       " ('PU', 27),\n",
       " ('Mirrorless', 26),\n",
       " ('RC', 26),\n",
       " ('Pentax', 26),\n",
       " ('System', 26),\n",
       " ('UV', 26),\n",
       " ('Inch', 26),\n",
       " ('Pinhole', 26),\n",
       " ('Smart', 25),\n",
       " ('Network', 25),\n",
       " ('30M', 25),\n",
       " ('Green', 25),\n",
       " ('Support', 25),\n",
       " ('16MP', 25),\n",
       " ('Wall', 25),\n",
       " ('Hood', 24),\n",
       " ('360', 24),\n",
       " ('sensor', 24),\n",
       " ('Watch', 24),\n",
       " ('SPY', 24),\n",
       " ('Macro', 24),\n",
       " ('Plug', 24),\n",
       " ('FPV', 24),\n",
       " ('Alarm', 23),\n",
       " ('Bluetooth', 23),\n",
       " ('IS', 23),\n",
       " ('Frame', 23),\n",
       " ('Soft', 23),\n",
       " ('w', 23),\n",
       " ('Storage', 23),\n",
       " ('Go', 22),\n",
       " ('DJI', 22),\n",
       " ('inch', 22),\n",
       " ('Andoer', 22),\n",
       " ('x', 22),\n",
       " ('M', 22),\n",
       " ('Original', 22),\n",
       " ('NODA', 22),\n",
       " ('Session', 22),\n",
       " ('5MP', 22),\n",
       " ('Clock', 21),\n",
       " ('Box', 21),\n",
       " ('Floating', 21),\n",
       " ('264', 21),\n",
       " ('3MP', 21),\n",
       " ('Yellow', 21),\n",
       " ('VR', 21),\n",
       " ('Bundle', 21),\n",
       " ('Phantom', 21),\n",
       " ('UHS', 21),\n",
       " ('AF', 21),\n",
       " ('Shoulder', 21),\n",
       " ('Version', 20),\n",
       " ('Adjustable', 20),\n",
       " ('Warranty', 20),\n",
       " ('Export', 20),\n",
       " ('Y', 20),\n",
       " ('Multi', 20),\n",
       " ('Audio', 20),\n",
       " ('Backpack', 19),\n",
       " ('Dual', 19),\n",
       " ('Smartphone', 19),\n",
       " ('Malaysia', 19),\n",
       " ('Underwater', 19),\n",
       " ('Vinyl', 19),\n",
       " ('Indoor', 19),\n",
       " ('Hero4', 19),\n",
       " ('Ball', 19),\n",
       " ('High', 19),\n",
       " ('Reverse', 19),\n",
       " ('Stabilizer', 19),\n",
       " ('12', 18),\n",
       " ('I', 18),\n",
       " ('Brown', 18),\n",
       " ('24', 18),\n",
       " ('All', 18),\n",
       " ('MCE', 18),\n",
       " ('TFT', 18),\n",
       " ('Belt', 18),\n",
       " ('Pen', 18),\n",
       " ('Hand', 18),\n",
       " ('SanDisk', 18),\n",
       " ('Sun', 18),\n",
       " ('Megapixel', 18),\n",
       " ('Home', 18),\n",
       " ('Dashboard', 18),\n",
       " ('Protector', 18),\n",
       " ('Body', 18),\n",
       " ('SDXC', 17),\n",
       " ('Bracket', 17),\n",
       " ('s', 17),\n",
       " ('Helmet', 17),\n",
       " ('Sensor', 17),\n",
       " ('Silicone', 17),\n",
       " ('Sigma', 17),\n",
       " ('Drone', 17),\n",
       " ('Clip', 17),\n",
       " ('Auto', 17),\n",
       " ('Optical', 16),\n",
       " ('Voice', 16),\n",
       " ('200mm', 16),\n",
       " ('Real', 16),\n",
       " ('Metal', 16),\n",
       " ('Axis', 16),\n",
       " ('Arm', 16),\n",
       " ('35mm', 16),\n",
       " ('Extension', 16),\n",
       " ('Free', 16),\n",
       " ('Pouch', 15),\n",
       " ('Hot', 15),\n",
       " ('MP', 15),\n",
       " ('PC', 15),\n",
       " ('Plus', 15),\n",
       " ('52mm', 15),\n",
       " ('F', 15),\n",
       " ('strap', 15),\n",
       " ('Props', 15),\n",
       " ('4CH', 15),\n",
       " ('Charger', 15),\n",
       " ('Handle', 15),\n",
       " ('CPL', 15),\n",
       " ('of', 15),\n",
       " ('0MP', 15),\n",
       " ('Hero3', 15),\n",
       " ('1080p', 15),\n",
       " ('iPhone', 15),\n",
       " ('4G', 15),\n",
       " ('DC', 15),\n",
       " ('Shutter', 15),\n",
       " ('In', 14),\n",
       " ('Webcam', 14),\n",
       " ('DSC', 14),\n",
       " ('Clamp', 14),\n",
       " ('Accessory', 14),\n",
       " ('Gyro', 14),\n",
       " ('55', 14),\n",
       " ('ED', 14),\n",
       " ('SONY', 14),\n",
       " ('Neutral', 14),\n",
       " ('Sunglasses', 14),\n",
       " ('Battery', 14),\n",
       " ('Self', 14),\n",
       " ('FREE', 14),\n",
       " ('14', 14),\n",
       " ('Bike', 14),\n",
       " ('bag', 14),\n",
       " ('Alpha', 14),\n",
       " ('JH', 14),\n",
       " ('Key', 13),\n",
       " ('Alloy', 13),\n",
       " ('Suction', 13),\n",
       " ('30', 13),\n",
       " ('Flexible', 13),\n",
       " ('M10', 13),\n",
       " ('Mobile', 13),\n",
       " ('F2', 13),\n",
       " ('9', 13),\n",
       " ('Power', 13),\n",
       " ('Wrist', 13),\n",
       " ('Parking', 13),\n",
       " ('CMOS', 13),\n",
       " ('Sandisk', 13),\n",
       " ('Samyang', 13),\n",
       " ('Xiaoyi', 13),\n",
       " ('Mirror', 13),\n",
       " ('20', 13),\n",
       " ('OTG', 13),\n",
       " ('Lumix', 13),\n",
       " ('Novatek', 13),\n",
       " ('Recording', 12),\n",
       " ('Density', 12),\n",
       " ('Standard', 12),\n",
       " ('HDMI', 12),\n",
       " ('67mm', 12),\n",
       " ('Shoe', 12),\n",
       " ('Orange', 12),\n",
       " ('Size', 12),\n",
       " ('Focus', 12),\n",
       " ('Dome', 12),\n",
       " ('GPS', 12),\n",
       " ('Detector', 12),\n",
       " ('Android', 12),\n",
       " ('card', 12),\n",
       " ('Cup', 12),\n",
       " ('58mm', 12),\n",
       " ('Bullet', 12),\n",
       " ('30FPS', 12),\n",
       " ('Compact', 12),\n",
       " ('Neewer', 12),\n",
       " ('L', 12),\n",
       " ('Rubber', 12),\n",
       " ('EU', 11),\n",
       " ('2MP', 11),\n",
       " ('Module', 11),\n",
       " ('lens', 11),\n",
       " ('Baby', 11),\n",
       " ('mini', 11),\n",
       " ('OH', 11),\n",
       " ('120', 11),\n",
       " ('SJ6000', 11),\n",
       " ('Official', 11),\n",
       " ('Up', 11),\n",
       " ('Wi', 11),\n",
       " ('DMC', 11),\n",
       " ('STM', 11),\n",
       " ('Super', 11),\n",
       " ('C', 11),\n",
       " ('Cube', 11),\n",
       " ('Cable', 11),\n",
       " ('40', 11),\n",
       " ('Pan', 11),\n",
       " ('HERO4', 11),\n",
       " ('Kits', 11),\n",
       " ('Large', 11),\n",
       " ('Hoya', 11),\n",
       " ('Cloud', 10),\n",
       " ('Carry', 10),\n",
       " ('HSM', 10),\n",
       " ('Type', 10),\n",
       " ('pro', 10),\n",
       " ('Extreme', 10),\n",
       " ('Half', 10),\n",
       " ('5x7FT', 10),\n",
       " ('Gimbal', 10),\n",
       " ('Fi', 10),\n",
       " ('D', 10),\n",
       " ('MC', 10),\n",
       " ('ESCAM', 10),\n",
       " ('Softbox', 10),\n",
       " ('US', 10),\n",
       " ('Aluminium', 10),\n",
       " ('Hd', 10),\n",
       " ('COOLPIX', 10),\n",
       " ('Kingston', 10),\n",
       " ('Web', 10),\n",
       " ('F1', 10),\n",
       " ('outerdoor', 10),\n",
       " ('128GB', 10),\n",
       " ('Backup', 10),\n",
       " ('Instax', 10),\n",
       " ('Panoramic', 9),\n",
       " ('Syma', 9),\n",
       " ('Shockproof', 9),\n",
       " ('3N', 9),\n",
       " ('Fuji', 9),\n",
       " ('Lamp', 9),\n",
       " ('mobile', 9),\n",
       " ('A7', 9),\n",
       " ('Buckle', 9),\n",
       " ('XCSource', 9),\n",
       " ('Chain', 9),\n",
       " ('Grey', 9),\n",
       " ('T', 9),\n",
       " ('Elastic', 9),\n",
       " ('Carrying', 9),\n",
       " ('NEW', 9),\n",
       " ('Neoprene', 9),\n",
       " ('Close', 9),\n",
       " ('Speed', 9),\n",
       " ('C10', 9),\n",
       " ('Leica', 9),\n",
       " ('Backdrops', 9),\n",
       " ('DG', 9),\n",
       " ('way', 9),\n",
       " ('CCD', 9),\n",
       " ('Eye', 9),\n",
       " ('77mm', 9),\n",
       " ('Base', 9),\n",
       " ('1MP', 9),\n",
       " ('Diffuser', 9),\n",
       " ('37mm', 9),\n",
       " ('Manfrotto', 9),\n",
       " ('140', 9),\n",
       " ('H9', 9),\n",
       " ('IMPORT', 9),\n",
       " ('Way', 9),\n",
       " ('EX', 9),\n",
       " ('Tilt', 9),\n",
       " ('Edition', 9),\n",
       " ('Rearview', 9),\n",
       " ('ND', 9),\n",
       " ('960P', 9),\n",
       " ('time', 9),\n",
       " ('A', 9),\n",
       " ('Hook', 9),\n",
       " ('F4', 8),\n",
       " ('Button', 8),\n",
       " ('KING', 8),\n",
       " ('Water', 8),\n",
       " ('Casio', 8),\n",
       " ('A5000', 8),\n",
       " ('Bobber', 8),\n",
       " ('Disk', 8),\n",
       " ('Bicycle', 8),\n",
       " ('Coolpix', 8),\n",
       " ('ONVIF', 8),\n",
       " ('Anti', 8),\n",
       " ('MicroSD', 8),\n",
       " ('Outdoorfree', 8),\n",
       " ('waterproof', 8),\n",
       " ('Mark', 8),\n",
       " ('8G', 8),\n",
       " ('P', 8),\n",
       " ('Cleaning', 8),\n",
       " ('DIY', 8),\n",
       " ('A7R', 8),\n",
       " ('Data', 8),\n",
       " ('video', 8),\n",
       " ('niceEshop', 8),\n",
       " ('Smallest', 8),\n",
       " ('black', 8),\n",
       " ('UK', 8),\n",
       " ('50', 8),\n",
       " ('wofalo', 8),\n",
       " ('MENGS', 8),\n",
       " ('Umbrella', 8),\n",
       " ('CUT', 8),\n",
       " ('micro', 8),\n",
       " ('Transparent', 8),\n",
       " ('Reflector', 8),\n",
       " ('Advanced', 8),\n",
       " ('Telephoto', 8),\n",
       " ('FHD', 8),\n",
       " ('Not', 8),\n",
       " ('Face', 8),\n",
       " ('Meking', 8),\n",
       " ('Riding', 8),\n",
       " ('Carbon', 8),\n",
       " ('Weatherproof', 8),\n",
       " ('5mm', 8),\n",
       " ('R', 8),\n",
       " ('hero', 8),\n",
       " ('Lighting', 8),\n",
       " ('RTF', 8),\n",
       " ('HR', 8),\n",
       " ('Circular', 8),\n",
       " ('MB', 8),\n",
       " ('Slim', 7),\n",
       " ('Replacement', 7),\n",
       " ('HKS', 7),\n",
       " ('32G', 7),\n",
       " ('No', 7),\n",
       " ('MS', 7),\n",
       " ('14MP', 7),\n",
       " ('SJ7000', 7),\n",
       " ('Driving', 7),\n",
       " ('70', 7),\n",
       " ('Series', 7),\n",
       " ('GOQ', 7),\n",
       " ('XCSOURCE', 7),\n",
       " ('HD1080P', 7),\n",
       " ('Glass', 7),\n",
       " ('Dive', 7),\n",
       " ('EKEN', 7),\n",
       " ('Tube', 7),\n",
       " ('Port', 7),\n",
       " ('300mm', 7),\n",
       " ('HERO', 7),\n",
       " ('Retro', 7),\n",
       " ('Day', 7),\n",
       " ('Wood', 7),\n",
       " ('D90', 7),\n",
       " ('microSDXC', 7),\n",
       " ('PTZ', 7),\n",
       " ('D7100', 7),\n",
       " ('CS', 7),\n",
       " ('Travel', 7),\n",
       " ('NX', 7),\n",
       " ('Shooting', 7),\n",
       " ('80MB', 7),\n",
       " ('III', 7),\n",
       " ('MMC', 7),\n",
       " ('D3200', 7),\n",
       " ('Handlebar', 7),\n",
       " ('SB', 7),\n",
       " ('Yunteng', 7),\n",
       " ('CF', 7),\n",
       " ('Sj6000', 7),\n",
       " ('60FPS', 7),\n",
       " ('36', 7),\n",
       " ('CAM', 7),\n",
       " ('BLACK', 7),\n",
       " ('Fiber', 7),\n",
       " ('AS', 7),\n",
       " ('D7000', 7),\n",
       " ('OIS', 7),\n",
       " ('Clear', 7),\n",
       " ('axis', 7),\n",
       " ('Lenses', 7),\n",
       " ('USM', 7),\n",
       " ('YT', 7),\n",
       " ('135mm', 7),\n",
       " ('Mode', 7),\n",
       " ('up', 7),\n",
       " ('Adaptor', 7),\n",
       " ('100', 7),\n",
       " ('Recofder', 7),\n",
       " ('Onvif', 7),\n",
       " ('x9D', 6),\n",
       " ('064G', 6),\n",
       " ('Lock', 6),\n",
       " ('Octopus', 6),\n",
       " ('5x', 6),\n",
       " ('11', 6),\n",
       " ('42mm', 6),\n",
       " ('FSH', 6),\n",
       " ('ND2', 6),\n",
       " ('IMPORTED', 6),\n",
       " ('PowerShot', 6),\n",
       " ('Controller', 6),\n",
       " ('angle', 6),\n",
       " ('or', 6),\n",
       " ('Skin', 6),\n",
       " ('3x5ft', 6),\n",
       " ('MINI', 6),\n",
       " ('Sricam', 6),\n",
       " ('XC', 6),\n",
       " ('72mm', 6),\n",
       " ('On', 6),\n",
       " ('Cyber', 6),\n",
       " ('NightVision', 6),\n",
       " ('Clothes', 6),\n",
       " ('Compatible', 6),\n",
       " ('Play', 6),\n",
       " ('SYMA', 6),\n",
       " ('F3', 6),\n",
       " ('30fps', 6),\n",
       " ('OM', 6),\n",
       " ('60D', 6),\n",
       " ('ND8', 6),\n",
       " ('Fashion', 6),\n",
       " ('NVR', 6),\n",
       " ('Lightweight', 6),\n",
       " ('A5100', 6),\n",
       " ('M2', 6),\n",
       " ('Fisheye', 6),\n",
       " ('kit', 6),\n",
       " ('Slider', 6),\n",
       " ('Surfing', 6),\n",
       " ('Transmission', 6),\n",
       " ('Skeleton', 6),\n",
       " ('Specified', 6),\n",
       " ('Back', 6),\n",
       " ('Cards', 6),\n",
       " ('550D', 6),\n",
       " ('Male', 6),\n",
       " ('Only', 6),\n",
       " ('Endoscope', 6),\n",
       " ('Shell', 6),\n",
       " ('4x', 6),\n",
       " ('HS', 6),\n",
       " ('OSS', 6),\n",
       " ('M1', 6),\n",
       " ('Coffee', 6),\n",
       " ('Megapixels', 6),\n",
       " ('NCS', 6),\n",
       " ('QR', 6),\n",
       " ('VideoRecorder', 6),\n",
       " ('Combo', 6),\n",
       " ('4GB', 6),\n",
       " ('Pocket', 6),\n",
       " ('Godox', 6),\n",
       " ('Harness', 6),\n",
       " ('phone', 6),\n",
       " ('AC', 6),\n",
       " ('Strontium', 6),\n",
       " ('Motorcycle', 6),\n",
       " ('Two', 6),\n",
       " ('Tent', 6),\n",
       " ('Smile', 6),\n",
       " ('HDD', 6),\n",
       " ('Inches', 6),\n",
       " ('action', 6),\n",
       " ('Channel', 6),\n",
       " ('Prop', 6),\n",
       " ('Coated', 6),\n",
       " ('12V', 6),\n",
       " ('Galaxy', 6),\n",
       " ('Bulb', 6),\n",
       " ('Folding', 6),\n",
       " ('UFO', 6),\n",
       " ('Microphone', 6),\n",
       " ('Quality', 6),\n",
       " ('30mm', 6),\n",
       " ('Front', 6),\n",
       " ('Collapsible', 6),\n",
       " ('Style', 6),\n",
       " ('A6000', 6),\n",
       " ('Surface', 6),\n",
       " ('Hub', 6),\n",
       " ('33', 6),\n",
       " ('Nanny', 6),\n",
       " ('Thumb', 6),\n",
       " ('Medium', 6),\n",
       " ('50MM', 5),\n",
       " ('shot', 5),\n",
       " ('CAMERA', 5),\n",
       " ('Zeiss', 5),\n",
       " ('25mm', 5),\n",
       " ('Round', 5),\n",
       " ('Bayonet', 5),\n",
       " ('Plastic', 5),\n",
       " ('Inspection', 5),\n",
       " ('D5200', 5),\n",
       " ('5cm', 5),\n",
       " ('Infrared', 5),\n",
       " ('MicroSDHC', 5),\n",
       " ('5D', 5),\n",
       " ('Registrator', 5),\n",
       " ('WebCam', 5),\n",
       " ('Generic', 5),\n",
       " ('Capacity', 5),\n",
       " ('Yongnuo', 5),\n",
       " ('Side', 5),\n",
       " ('on', 5),\n",
       " ('Twin', 5),\n",
       " ('B', 5),\n",
       " ('JJC', 5),\n",
       " ('KIT', 5),\n",
       " ('Other', 5),\n",
       " ('42', 5),\n",
       " ('Duo', 5),\n",
       " ('Len', 5),\n",
       " ('ND4', 5),\n",
       " ('80cm', 5),\n",
       " ('Foldable', 5),\n",
       " ('degree', 5),\n",
       " ('Definition', 5),\n",
       " ('Climbing', 5),\n",
       " ('18MP', 5),\n",
       " ('Ambarella', 5),\n",
       " ('KEEP', 5),\n",
       " ('WARRANTY', 5),\n",
       " ('Fader', 5),\n",
       " ('Led', 5),\n",
       " ('AHD', 5),\n",
       " ('5000', 5),\n",
       " ('Traveling', 5),\n",
       " ('One', 5),\n",
       " ('Radio', 5),\n",
       " ('50cm', 5),\n",
       " ('WDR', 5),\n",
       " ('D5300', 5),\n",
       " ('5R', 5),\n",
       " ('f3', 5),\n",
       " ('Graduated', 5),\n",
       " ('D5100', 5),\n",
       " ('Slot', 5),\n",
       " ('Wrench', 5),\n",
       " ('12mm', 5),\n",
       " ('Gray', 5),\n",
       " ('Floor', 5),\n",
       " ('Pin', 5),\n",
       " ('Phones', 5),\n",
       " ('Timer', 5),\n",
       " ('Dvr', 5),\n",
       " ('Triangle', 5),\n",
       " ('Gear', 5),\n",
       " ('Mounts', 5),\n",
       " ('Design', 5),\n",
       " ('ASPH', 5),\n",
       " ('Converter', 5),\n",
       " ('Hole', 5),\n",
       " ('3D', 5),\n",
       " ('Dashcam', 5),\n",
       " ('PZ', 5),\n",
       " ('60fps', 5),\n",
       " ('228', 5),\n",
       " ('Powershot', 5),\n",
       " ('Film', 5),\n",
       " ('Swimming', 5),\n",
       " ('Tamron', 5),\n",
       " ('To', 5),\n",
       " ('Aperture', 5),\n",
       " ('720p', 5),\n",
       " ('DIGITAL', 5),\n",
       " ('TELESIN', 5),\n",
       " ('18mm', 5),\n",
       " ('DS', 5),\n",
       " ('Etc', 5),\n",
       " ('MALAYSIA', 5),\n",
       " ('GX8', 5),\n",
       " ('UMC', 5),\n",
       " ('Multicolor', 5),\n",
       " ('Hard', 5),\n",
       " ('Flat', 5),\n",
       " ('24mm', 5),\n",
       " ('Bags', 5),\n",
       " ('Rotation', 5),\n",
       " ('Top', 5),\n",
       " ('ILCE', 5),\n",
       " ('Hero2', 5),\n",
       " ('MotionDetection', 5),\n",
       " ('Point', 5),\n",
       " ('JOR', 5),\n",
       " ('YN', 5),\n",
       " ('4GHz', 5),\n",
       " ('PAL', 5),\n",
       " ('EVA', 5),\n",
       " ('light', 5),\n",
       " ('Flower', 5),\n",
       " ('J', 5),\n",
       " ('f2', 5),\n",
       " ('700D', 5),\n",
       " ('Any', 5),\n",
       " ('Headless', 5),\n",
       " ('Multifunctional', 4),\n",
       " ('YUNNUO', 4),\n",
       " ('Dslr', 4),\n",
       " ('6mm', 4),\n",
       " ('case', 4),\n",
       " ('shoulder', 4),\n",
       " ('GSM', 4),\n",
       " ('HMC', 4),\n",
       " ('EW', 4),\n",
       " ('Sj4000', 4),\n",
       " ('70mm', 4),\n",
       " ('ActionCamera', 4),\n",
       " ('Track', 4),\n",
       " ('ANRAN', 4),\n",
       " ('500mm', 4),\n",
       " ('function', 4),\n",
       " ('SP', 4),\n",
       " ('Non', 4),\n",
       " ('Helicopter', 4),\n",
       " ('A3', 4),\n",
       " ('Windshield', 4),\n",
       " ('0inch', 4),\n",
       " ('Table', 4),\n",
       " ('720x480', 4),\n",
       " ('Air', 4),\n",
       " ('Pixco', 4),\n",
       " ('PRO', 4),\n",
       " ('8CH', 4),\n",
       " ('Kingma', 4),\n",
       " ('Connector', 4),\n",
       " ('NEOPine', 4),\n",
       " ('Diameter', 4),\n",
       " ('More', 4),\n",
       " ('free', 4),\n",
       " ('Purple', 4),\n",
       " ('Smartphones', 4),\n",
       " ('Art', 4),\n",
       " ('Allwin', 4),\n",
       " ('M3', 4),\n",
       " ('mount', 4),\n",
       " ('Shot', 4),\n",
       " ('Pattern', 4),\n",
       " ('TVI', 4),\n",
       " ('Paper', 4),\n",
       " ('Email', 4),\n",
       " ('Thin', 4),\n",
       " ('2017', 4),\n",
       " ('Detect', 4),\n",
       " ('Star', 4),\n",
       " ('Function', 4),\n",
       " ('KSRplayer', 4),\n",
       " ('16CH', 4),\n",
       " ('GB', 4),\n",
       " ('Rebel', 4),\n",
       " ('X4', 4),\n",
       " ('Camping', 4),\n",
       " ('Newest', 4),\n",
       " ('Single', 4),\n",
       " ('Fist', 4),\n",
       " ('Rondaful', 4),\n",
       " ('4000', 4),\n",
       " ('piece', 4),\n",
       " ('60', 4),\n",
       " ('Long', 4),\n",
       " ('Panel', 4),\n",
       " ('3Sj4000Sj5000', 4),\n",
       " ('TFCard', 4),\n",
       " ('Dummy', 4),\n",
       " ('POE', 4),\n",
       " ('NODAMini', 4),\n",
       " ('Genuine', 4),\n",
       " ('APP', 4),\n",
       " ('Minolta', 4),\n",
       " ('GT300', 4),\n",
       " ('Bar', 4),\n",
       " ('Four', 4),\n",
       " ('45', 4),\n",
       " ('BUYINCOINS', 4),\n",
       " ('Q', 4),\n",
       " ('A2', 4),\n",
       " ('NTSC', 4),\n",
       " ('Rail', 4),\n",
       " ('Included', 4),\n",
       " ('AR', 4),\n",
       " ('Telescope', 4),\n",
       " ('CN', 4),\n",
       " ('D3100', 4),\n",
       " ('Vertical', 4),\n",
       " ('Wire', 4),\n",
       " ('pole', 4),\n",
       " ('Brick', 4),\n",
       " ('SJ', 4),\n",
       " ('EVO', 4),\n",
       " ('Window', 4),\n",
       " ('Suit', 4),\n",
       " ('K', 4),\n",
       " ('Laptop', 4),\n",
       " ('8X', 4),\n",
       " ('warranty', 4),\n",
       " ('OS', 4),\n",
       " ('Vario', 4),\n",
       " ('RF', 4),\n",
       " ('B2', 4),\n",
       " ('Smoke', 4),\n",
       " ('Cage', 4),\n",
       " ('8x', 4),\n",
       " ('Low', 4),\n",
       " ('M5', 4),\n",
       " ('NIKON', 4),\n",
       " ('D3400', 4),\n",
       " ('Speedlite', 4),\n",
       " ('105mm', 4),\n",
       " ('CANON', 4),\n",
       " ('ZUIKO', 4),\n",
       " ('Telescopic', 4),\n",
       " ('WR', 4),\n",
       " ('OSD', 4),\n",
       " ('15', 4),\n",
       " ('functional', 4),\n",
       " ('2GB', 4),\n",
       " ('tripod', 4),\n",
       " ('17', 4),\n",
       " ('Dv', 4),\n",
       " ('15mm', 4),\n",
       " ('Resistant', 4),\n",
       " ('Switch', 4),\n",
       " ('Nitro', 4),\n",
       " ('Cut', 4),\n",
       " ('150mm', 4),\n",
       " ('Built', 4),\n",
       " ('W8', 4),\n",
       " ('D5500', 4),\n",
       " ('U8', 4),\n",
       " ('2pcs', 4),\n",
       " ('TP', 4),\n",
       " ('1300D', 4),\n",
       " ('3M', 4),\n",
       " ('Max', 4),\n",
       " ('Steadicam', 4),\n",
       " ('Transmitter', 4),\n",
       " ('12Mp', 4),\n",
       " ('silver', 4),\n",
       " ('Charging', 4),\n",
       " ('Detachable', 4),\n",
       " ('Translucent', 4),\n",
       " ('XF', 4),\n",
       " ('80', 4),\n",
       " ('Shoot', 4),\n",
       " ('ILDC', 4),\n",
       " ('Transcend', 4),\n",
       " ('SX50', 4),\n",
       " ('4k', 4),\n",
       " ('Di', 4),\n",
       " ('size', 3),\n",
       " ('Ip', 3),\n",
       " ('Seatpost', 3),\n",
       " ('EZ', 3),\n",
       " ('S6', 3),\n",
       " ('Wired', 3),\n",
       " ('in1', 3),\n",
       " ('Sj5000', 3),\n",
       " ('ET', 3),\n",
       " ('MD80', 3),\n",
       " ('SANNCE', 3),\n",
       " ('X70', 3),\n",
       " ('OWSOO', 3),\n",
       " ('Motor', 3),\n",
       " ('camcorder', 3),\n",
       " ('Float', 3),\n",
       " ('LINK', 3),\n",
       " ('2015', 3),\n",
       " ('Short', 3),\n",
       " ('XL', 3),\n",
       " ('sports', 3),\n",
       " ('Brushless', 3),\n",
       " ('53', 3),\n",
       " ('Band', 3),\n",
       " ('210mm', 3),\n",
       " ('Load', 3),\n",
       " ('8D', 3),\n",
       " ('Koolertron', 3),\n",
       " ('YEAR', 3),\n",
       " ('2x', 3),\n",
       " ('head', 3),\n",
       " ('D7200', 3),\n",
       " ('without', 3),\n",
       " ('Truck', 3),\n",
       " ('IF', 3),\n",
       " ('J1', 3),\n",
       " ('HB', 3),\n",
       " ('Of', 3),\n",
       " ('Cradle', 3),\n",
       " ('Sunglass', 3),\n",
       " ('4MP', 3),\n",
       " ('CH', 3),\n",
       " ('250', 3),\n",
       " ('YN560', 3),\n",
       " ('Po', 3),\n",
       " ('5500K', 3),\n",
       " ('grip', 3),\n",
       " ('Dji', 3),\n",
       " ('Selens', 3),\n",
       " ('DigitalVideoRecorder', 3),\n",
       " ('Hero5', 3),\n",
       " ('Hydraulic', 3),\n",
       " ('A100', 3),\n",
       " ('MACRO', 3),\n",
       " ('60M', 3),\n",
       " ('D3000', 3),\n",
       " ('Rain', 3),\n",
       " ('Osmo', 3),\n",
       " ('LTPS', 3),\n",
       " ('Borescope', 3),\n",
       " ('Rotary', 3),\n",
       " ('720', 3),\n",
       " ('CTO', 3),\n",
       " ...]"
      ]
     },
     "execution_count": 78,
     "metadata": {},
     "output_type": "execute_result"
    }
   ],
   "source": [
    "bagsofwords[0].most_common()"
>>>>>>> b58367a60ae1ddb8e25ab4d55a29b4dbd29b3ca1
   ]
  },
  {
   "cell_type": "code",
   "execution_count": null,
   "metadata": {
    "collapsed": true
   },
   "outputs": [],
   "source": []
  }
 ],
 "metadata": {
  "anaconda-cloud": {},
  "kernelspec": {
   "display_name": "Python [Root]",
   "language": "python",
   "name": "Python [Root]"
  },
  "language_info": {
   "codemirror_mode": {
    "name": "ipython",
    "version": 3
   },
   "file_extension": ".py",
   "mimetype": "text/x-python",
   "name": "python",
   "nbconvert_exporter": "python",
   "pygments_lexer": "ipython3",
   "version": "3.5.1"
  }
 },
 "nbformat": 4,
 "nbformat_minor": 2
}
