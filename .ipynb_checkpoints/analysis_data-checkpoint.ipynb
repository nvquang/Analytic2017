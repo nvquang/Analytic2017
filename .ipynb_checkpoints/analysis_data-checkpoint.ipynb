{
 "cells": [
  {
   "cell_type": "code",
   "execution_count": 1,
   "metadata": {
    "collapsed": true,
    "deletable": true,
    "editable": true
   },
   "outputs": [],
   "source": [
    "import pandas as pd\n",
    "import numpy as np\n",
    "import matplotlib.pyplot as plt\n",
    "%matplotlib inline\n",
    "from nltk import ngrams\n",
    "from sklearn.metrics import confusion_matrix\n",
    "from sklearn.metrics import mean_squared_error\n",
    "from math import sqrt\n",
    "import re"
   ]
  },
  {
   "cell_type": "code",
   "execution_count": 2,
   "metadata": {
    "collapsed": false,
    "deletable": true,
    "editable": true
   },
   "outputs": [],
   "source": [
    "train_df = pd.read_csv(\"data/training/data_train.csv\", dtype='unicode')\n",
    "train_df.fillna(value='', inplace=True)"
   ]
  },
  {
   "cell_type": "code",
   "execution_count": 22,
   "metadata": {
    "collapsed": false,
    "deletable": true,
    "editable": true
   },
   "outputs": [],
   "source": [
    "def ngram(string, ngram):\n",
    "    if string:\n",
    "        string = string.lower()\n",
    "        return string.split()\n",
    "#         result = []\n",
    "#         for g in ngrams(string.split(), ngram):\n",
    "#             result.append(' '.join(g[0].lower()))\n",
    "            \n",
    "#         return result\n",
    "    return \"\""
   ]
  },
  {
   "cell_type": "code",
   "execution_count": 4,
   "metadata": {
    "collapsed": true,
    "deletable": true,
    "editable": true
   },
   "outputs": [],
   "source": [
    "def cleanhtml(raw_html):\n",
    "    result = re.sub(re.compile('<.*?>'), ' ', raw_html)\n",
    "    return result"
   ]
  },
  {
   "cell_type": "code",
   "execution_count": 5,
   "metadata": {
    "collapsed": false,
    "deletable": true,
    "editable": true
   },
   "outputs": [],
   "source": [
    "train_df['predict_clarity'] = '0'\n",
    "train_df['short_description_clear_html'] = train_df.apply(lambda row: cleanhtml(row['short_description']), axis=1)"
   ]
  },
  {
   "cell_type": "code",
   "execution_count": 24,
   "metadata": {
    "collapsed": false,
    "deletable": true,
    "editable": true
   },
   "outputs": [
    {
     "name": "stdout",
     "output_type": "stream",
     "text": [
      "title:  hanyu men pu leather lace up cap-toe business casual shoes black\n",
      "word2:  men\n"
     ]
    }
   ],
   "source": [
    "for index, row in train_df.iterrows():\n",
    "    \n",
    "    if index != 15:\n",
    "        continue\n",
    "    \n",
    "    isFinished = False\n",
    "    title = row['title'].lower()\n",
    "    \n",
    "    \n",
    "    for word in ngram(row['category_lvl_1'], 1):\n",
    "        if word in title:\n",
    "            train_df.set_value(index, 'predict_clarity', '1')\n",
    "            isFinished = True\n",
    "            break\n",
    "        \n",
    "    if not isFinished:\n",
    "        for word in ngram(row['category_lvl_2'], 1):\n",
    "            if word in title:\n",
    "                train_df.set_value(index, 'predict_clarity', '1')\n",
    "                isFinished = True\n",
    "                break\n",
    "        \n",
    "    if not isFinished:\n",
    "        for word in ngram(row['category_lvl_3'], 1):\n",
    "            if word in title:\n",
    "                train_df.set_value(index, 'predict_clarity', '1')\n",
    "                isFinished = True\n",
    "                break\n",
    "                \n",
    "    if not isFinished:\n",
    "        for word in ngram(cleanhtml(row['short_description_clear_html']), 1):\n",
    "            if word in \"color, size, model\":\n",
    "                train_df.set_value(index, 'predict_clarity', '1')\n",
    "                isFinished = True\n",
    "                break"
   ]
  },
  {
   "cell_type": "code",
   "execution_count": 14,
   "metadata": {
    "collapsed": false,
    "deletable": true,
    "editable": true
   },
   "outputs": [],
   "source": [
    "rms = sqrt(mean_squared_error(train_df.clarity, train_df.predict_clarity))"
   ]
  },
  {
   "cell_type": "code",
   "execution_count": 16,
   "metadata": {
    "collapsed": false,
    "deletable": true,
    "editable": true
   },
   "outputs": [
    {
     "name": "stdout",
     "output_type": "stream",
     "text": [
      "0.8787219398701008\n"
     ]
    }
   ],
   "source": [
    "print(rms)"
   ]
  },
  {
   "cell_type": "code",
   "execution_count": 9,
   "metadata": {
    "collapsed": false,
    "deletable": true,
    "editable": true
   },
   "outputs": [
    {
     "data": {
      "text/html": [
       "<div>\n",
       "<table border=\"1\" class=\"dataframe\">\n",
       "  <thead>\n",
       "    <tr style=\"text-align: right;\">\n",
       "      <th>predict_clarity</th>\n",
       "      <th>0</th>\n",
       "      <th>1</th>\n",
       "      <th>All</th>\n",
       "    </tr>\n",
       "    <tr>\n",
       "      <th>clarity</th>\n",
       "      <th></th>\n",
       "      <th></th>\n",
       "      <th></th>\n",
       "    </tr>\n",
       "  </thead>\n",
       "  <tbody>\n",
       "    <tr>\n",
       "      <th>0</th>\n",
       "      <td>1702</td>\n",
       "      <td>353</td>\n",
       "      <td>2055</td>\n",
       "    </tr>\n",
       "    <tr>\n",
       "      <th>1</th>\n",
       "      <td>27678</td>\n",
       "      <td>6550</td>\n",
       "      <td>34228</td>\n",
       "    </tr>\n",
       "    <tr>\n",
       "      <th>All</th>\n",
       "      <td>29380</td>\n",
       "      <td>6903</td>\n",
       "      <td>36283</td>\n",
       "    </tr>\n",
       "  </tbody>\n",
       "</table>\n",
       "</div>"
      ],
      "text/plain": [
       "predict_clarity      0     1    All\n",
       "clarity                            \n",
       "0                 1702   353   2055\n",
       "1                27678  6550  34228\n",
       "All              29380  6903  36283"
      ]
     },
     "execution_count": 9,
     "metadata": {},
     "output_type": "execute_result"
    }
   ],
   "source": [
    "pd.crosstab(train_df.clarity, train_df.predict_clarity, margins=True)"
   ]
  },
  {
   "cell_type": "code",
   "execution_count": 10,
   "metadata": {
    "collapsed": true,
    "deletable": true,
    "editable": true
   },
   "outputs": [],
   "source": [
    "train_df.to_csv(\"analysis_data.csv\", index=False)"
   ]
  },
  {
   "cell_type": "code",
   "execution_count": null,
   "metadata": {
    "collapsed": false,
    "deletable": true,
    "editable": true
   },
   "outputs": [],
   "source": []
  }
 ],
 "metadata": {
  "kernelspec": {
   "display_name": "Python 3",
   "language": "python",
   "name": "python3"
  },
  "language_info": {
   "codemirror_mode": {
    "name": "ipython",
    "version": 3
   },
   "file_extension": ".py",
   "mimetype": "text/x-python",
   "name": "python",
   "nbconvert_exporter": "python",
   "pygments_lexer": "ipython3",
   "version": "3.5.2"
  }
 },
 "nbformat": 4,
 "nbformat_minor": 2
}
