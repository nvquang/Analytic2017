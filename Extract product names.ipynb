{
 "cells": [
  {
   "cell_type": "code",
   "execution_count": 23,
   "metadata": {
    "collapsed": false,
    "deletable": true,
    "editable": true
   },
   "outputs": [],
   "source": [
    "import pandas as pd\n",
    "import numpy as np\n",
    "import matplotlib.pyplot as plt\n",
    "%matplotlib inline\n",
    "from ipywidgets import FloatProgress\n",
    "from IPython.display import display\n",
    "import time"
   ]
  },
  {
   "cell_type": "code",
   "execution_count": 91,
   "metadata": {
    "collapsed": false
   },
   "outputs": [],
   "source": [
    "#Utilities functions\n",
    "#launch a progress bar\n",
    "def initProgBar(maxIter , desc = 'loading...', stepPB = 1):\n",
    "    step = stepPB * 100 / maxIter \n",
    "    f = FloatProgress(min=0, max=100, value=0, step=step , description = desc)\n",
    "    display(f)\n",
    "    return f\n",
    "\n",
    "#update at every iteration the progress bar\n",
    "def updateProgBar(f):\n",
    "    f.value += f.step\n",
    "    return f\n",
    "\n",
    "#exemple of use:\n",
    "#import time\n",
    "#f=initProgBar(50)\n",
    "#for i in range(50):\n",
    "#    sleep(0.1)\n",
    "#    updateProgBar(f)\n",
    "\n",
    "#export a list in external .txt file\n",
    "def exportList(filename, listProd):\n",
    "    f = open (filename,\"w\") \n",
    "    for item in listProd:\n",
    "        f.write(str(item)+'\\n')\n",
    "    f.close()"
   ]
  },
  {
   "cell_type": "code",
   "execution_count": 2,
   "metadata": {
    "collapsed": false,
    "deletable": true,
    "editable": true
   },
   "outputs": [],
   "source": [
    "train_df = pd.read_csv(\"data/training/data_train.csv\", dtype='unicode')"
   ]
  },
  {
   "cell_type": "code",
   "execution_count": 3,
   "metadata": {
    "collapsed": false
   },
   "outputs": [
    {
     "name": "stdout",
     "output_type": "stream",
     "text": [
      "['Fashion', 'Health & Beauty', 'TV, Audio / Video, Gaming & Wearables', 'Computers & Laptops', 'Cameras', 'Home & Living', 'Watches Sunglasses Jewellery', 'Mobiles & Tablets', 'Home Appliances']\n"
     ]
    }
   ],
   "source": [
    "categories=[]\n",
    "for i in range(len(train_df)):\n",
    "    cat=str(train_df['category_lvl_1'][i])\n",
    "    if  cat not in categories:\n",
    "        categories.append(cat)\n",
    "\n",
    "print(categories)"
   ]
  },
  {
   "cell_type": "code",
   "execution_count": 4,
   "metadata": {
    "collapsed": false
   },
   "outputs": [],
   "source": [
    "def genSeq(string):\n",
    "    strL=string.split()\n",
    "    seqs=[]\n",
    "    for i in range(len(strL)):\n",
    "        seq=[]\n",
    "        seq.append(strL[i])\n",
    "        seqs.append(list(seq))\n",
    "        \n",
    "        j=i+1\n",
    "        while j < len(strL):\n",
    "            seq.append(strL[j])\n",
    "            seqs.append(list(seq))\n",
    "            j+=1\n",
    "        \n",
    "    return seqs\n",
    "\n",
    "def lisToString(liste):\n",
    "    string=''\n",
    "    for i in liste:\n",
    "        string+=str(i)+' '\n",
    "    return string\n",
    "    \n",
    "def simString(string1, string2):\n",
    "    seqs1=genSeq(string1)\n",
    "    seqs2=genSeq(string2)\n",
    "    \n",
    "    sim={}\n",
    "    for seq1 in seqs1:\n",
    "        for seq2 in seqs2:\n",
    "            if seq1 == seq2:\n",
    "                sim[lisToString(seq1)]=len(seq1)\n",
    "    return sim\n",
    "    \n",
    "def similarity(string1, string2):\n",
    "    simseqs=simString(string1, string2)\n",
    "    \n",
    "    seqM=''\n",
    "    lenM=0\n",
    "    for seq, leng in simseqs.items():\n",
    "        if leng > lenM:\n",
    "            seqM = seq\n",
    "            lenM = leng\n",
    "            \n",
    "    lenm = min(len(string1.split()), len(string2.split()))\n",
    "    return lenM,seqM\n"
   ]
  },
  {
   "cell_type": "code",
   "execution_count": 5,
   "metadata": {
    "collapsed": false
   },
   "outputs": [
    {
     "name": "stdout",
     "output_type": "stream",
     "text": [
      "[['my'], ['my', 'name'], ['my', 'name', 'is'], ['my', 'name', 'is', 'James'], ['my', 'name', 'is', 'James', 'Bond'], ['name'], ['name', 'is'], ['name', 'is', 'James'], ['name', 'is', 'James', 'Bond'], ['is'], ['is', 'James'], ['is', 'James', 'Bond'], ['James'], ['James', 'Bond'], ['Bond']]\n",
      "{'James Bond ': 2, 'James ': 1, 'Bond ': 1, 'is ': 1}\n",
      "(2, 'James Bond ')\n"
     ]
    }
   ],
   "source": [
    "string1=\"my name is James Bond\"\n",
    "string2=\"James Bond is a spy\"\n",
    "print(genSeq(string1))\n",
    "print(simString(string1, string2))\n",
    "print(similarity(string1, string2))"
   ]
  },
  {
   "cell_type": "code",
   "execution_count": 87,
   "metadata": {
    "collapsed": false
   },
   "outputs": [],
   "source": [
    "#extract product names from title : \"usb charger for iphone\" => \"usb charger\"\n",
    "def extractProdNames(train_def_cat):\n",
    "    start = time.time()\n",
    "    \n",
    "    #create a list of string for every titles\n",
    "    liste=[]\n",
    "    for i in range(len (train_def_cat)):\n",
    "        title=str(train_df['title'][i])\n",
    "        liste.append(title)\n",
    "    \n",
    "    #group by longest common sequence\n",
    "    clusters=groupLongSeq(liste, seq_avg_lgt = 2)\n",
    "    \n",
    "    #extract the longest commmon sequence string : supposed to be product name\n",
    "    listProd=[]\n",
    "    for i in range(len(clusters)):\n",
    "        if len(clust[i]) > 1:\n",
    "            listProd.append(similarity(clust[i][0],clust[i][1])[1])\n",
    "        else:\n",
    "            listProd.append(clust[i][0])\n",
    "    end = time.time()\n",
    "    print(\"Total time for extracting Product Names: \"+str(end - start))\n",
    "    return listProd\n",
    "    \n",
    "#group products by longest seq\n",
    "def groupLongSeq(liste, seq_avg_lgt = 2):\n",
    "    #create a matrix which values are length of longest common sequence between two titles\n",
    "    #for similarity of product with itself, choose value of average product name length\n",
    "    simMatrix=np.zeros((len(liste),len(liste)))\n",
    "    f2=initProgBar(len(liste)*len(liste)/2, desc = \"Building matrix of similarities:\")\n",
    "    \n",
    "    for i in range(len(liste)):\n",
    "        for j in range(i,len(liste)):\n",
    "            if i == j :\n",
    "                simMatrix[i][j] = seq_avg_lgt\n",
    "            else:\n",
    "                simMatrix[i][j] = similarity(liste[i],liste[j])[0]\n",
    "            simMatrix[j][i] = simMatrix[i][j]\n",
    "            updateProgBar(f2)\n",
    "    pairList=[]\n",
    "    return groupSimMatrix(simMatrix, pairList,liste)\n",
    "\n",
    "#process the matrix of similarities to cluster the titles\n",
    "def groupSimMatrix(simMatrix, pairList,liste):\n",
    "    length = simMatrix.shape[0]\n",
    "    \n",
    "    #stop recurrence once matrix is empty\n",
    "    if length == 0:\n",
    "        return pairList\n",
    "    valueMax=0\n",
    "    pair=[0]\n",
    "    #let s find the maximal similarity between 2 items\n",
    "    for j in range(1,length):\n",
    "        if simMatrix[0][j] > valueMax:\n",
    "            valueMax = simMatrix[0][j]\n",
    "    \n",
    "    #let's now examine the possible candidates for similarity:\n",
    "    for j in range(1,length):\n",
    "        if  valueMax == simMatrix[0][j]:\n",
    "            #is there another value for which similarity of candidates and other item is higher ?\n",
    "            isCandidate = 1\n",
    "            for i in range(1,length):\n",
    "                if simMatrix[i][j] > valueMax:\n",
    "                    isCandidate = 0\n",
    "            \n",
    "            #if not :\n",
    "            if isCandidate == 1:\n",
    "                pair.append(j)\n",
    "    \n",
    "    #find strings corresponding to matrix indexes\n",
    "    pairItem=[]\n",
    "    for i in pair:\n",
    "        pairItem.append(liste[i])\n",
    "    \n",
    "\n",
    "    #update matrix and list by removing the similar products found => reduce matrix for every recurrence\n",
    "    newMatrix=np.delete(simMatrix, pair, axis=0)\n",
    "    newMatrix=np.delete(newMatrix, pair, axis=1)\n",
    "    liste = [e for e in liste if e not in pairItem]\n",
    "    \n",
    "    pairList.append(pairItem)\n",
    "    return groupSimMatrix(newMatrix,pairList , liste)"
   ]
  },
  {
   "cell_type": "code",
   "execution_count": 86,
   "metadata": {
    "collapsed": false
   },
   "outputs": [
    {
     "name": "stdout",
     "output_type": "stream",
     "text": [
      "[['hello you there', 'you there come here'], ['you are a nuts', 'you there are a nuts'], ['you are hello']]\n",
      "['you there ', 'are a nuts ', 'you are hello']\n"
     ]
    }
   ],
   "source": [
    "liste=['hello you there', 'you are a nuts', 'you are hello', 'you there are a nuts', 'you there come here']\n",
    "clust=groupLongSeq(liste,2)\n",
    "print(clust)\n",
    "liste2=[]\n",
    "for i in range(len(clust)):\n",
    "    if len(clust[i]) > 1:\n",
    "        liste2.append(similarity(clust[i][0],clust[i][1])[1])\n",
    "    else:\n",
    "        liste2.append(clust[i][0])\n",
    "print(liste2)"
   ]
  },
  {
   "cell_type": "code",
   "execution_count": null,
   "metadata": {
    "collapsed": false
   },
   "outputs": [],
   "source": [
    "fashion_df = train_df[train_df['category_lvl_1'] == 'Fashion']\n",
    "listProd = extractProdNames(fashion_df)\n",
    "exportList('fashion_product_names.txt', listProd)"
   ]
  },
  {
   "cell_type": "code",
   "execution_count": null,
   "metadata": {
    "collapsed": true
   },
   "outputs": [],
   "source": [
    "#pb with building similarities!!!\n",
    "#re build same seq checking: iterative and not generative\n",
    "#try parallelisation"
   ]
  }
 ],
 "metadata": {
  "anaconda-cloud": {},
  "kernelspec": {
   "display_name": "Python [Root]",
   "language": "python",
   "name": "Python [Root]"
  },
  "language_info": {
   "codemirror_mode": {
    "name": "ipython",
    "version": 3
   },
   "file_extension": ".py",
   "mimetype": "text/x-python",
   "name": "python",
   "nbconvert_exporter": "python",
   "pygments_lexer": "ipython3",
   "version": "3.5.1"
  }
 },
 "nbformat": 4,
 "nbformat_minor": 2
}
