{
 "cells": [
  {
   "cell_type": "code",
   "execution_count": 4,
   "metadata": {
    "collapsed": false,
    "deletable": true,
    "editable": true
   },
   "outputs": [],
   "source": [
    "# fingerprint.py\n",
    " \n",
    "import sys\n",
    "import re\n",
    "import string\n",
    "import itertools\n",
    "import nltk\n",
    "from stemming.porter2 import stem\n",
    " \n",
    "class FingerPrint(object):\n",
    "    def __init__(self):\n",
    "        super(FingerPrint, self).__init__()\n",
    "        self.remove_spl_char_regex = re.compile('[%s]' % re.escape(string.punctuation)) # regex to remove special characters\n",
    "        self.remove_num = re.compile('[\\d]+')\n",
    " \n",
    "    def fp_steps(self,text):\n",
    "        title = text.strip().lower()\n",
    "        title_splchar_removed = self.remove_spl_char_regex.sub(\" \",title)\n",
    "        title_number_removed = self.remove_num.sub(\"\", title_splchar_removed)\n",
    "        words = title_number_removed.split()\n",
    "        filter_stop_words = [w for w in words if not w in nltk.corpus.stopwords.words('english')]\n",
    "        stemed = [stem(w) for w in filter_stop_words]\n",
    "        return sorted(stemed)\n",
    "     \n",
    "    def fingerprint(self,text):\n",
    "        fp = \" \".join(self.fp_steps(text))\n",
    "        return fp"
   ]
  },
  {
   "cell_type": "code",
   "execution_count": null,
   "metadata": {
    "collapsed": true
   },
   "outputs": [],
   "source": [
    "# map.py\n",
    "import sys\n",
    "import re\n",
    "import string\n",
    "from fingerprint import FingerPrint\n",
    " \n",
    "f = FingerPrint()\n",
    " \n",
    "for line in sys.stdin:\n",
    "    try:\n",
    "        print \"%s\\t%s\" % (f.fingerprint(line),line.strip())\n",
    "    except Exception as e:\n",
    "        print e\n",
    "        pass"
   ]
  },
  {
   "cell_type": "code",
   "execution_count": null,
   "metadata": {
    "collapsed": true
   },
   "outputs": [],
   "source": [
    "# reduce.py\n",
    " \n",
    "import sys\n",
    "from Levenshtein import distance\n",
    "import json\n",
    " \n",
    "DISTANCE = 20\n",
    "cluster = {}\n",
    "cid = 0\n",
    " \n",
    "for i,line in enumerate(sys.stdin):\n",
    "    cols = line.strip().split(\"\\t\")\n",
    "    if i == 0:\n",
    "        cluster[cid] = []\n",
    "        cluster[cid].append(cols)\n",
    "    else:\n",
    "        last = cluster[cid][-1]\n",
    "        if distance(last[0],cols[0]) <= DISTANCE:\n",
    "            cluster[cid].append(cols)\n",
    "        else:\n",
    "            cid+=1\n",
    "            cluster[cid] = []\n",
    "            cluster[cid].append(cols)\n",
    "\n",
    "            \n",
    "for k,v in cluster.iteritems():\n",
    "    print\n",
    "    print \"Cluster # \",k\n",
    "    for entry in v:\n",
    "        print entry[1]"
   ]
  }
 ],
 "metadata": {
  "kernelspec": {
   "display_name": "Python 3",
   "language": "python",
   "name": "python3"
  },
  "language_info": {
   "codemirror_mode": {
    "name": "ipython",
    "version": 3
   },
   "file_extension": ".py",
   "mimetype": "text/x-python",
   "name": "python",
   "nbconvert_exporter": "python",
   "pygments_lexer": "ipython3",
   "version": "3.5.2"
  }
 },
 "nbformat": 4,
 "nbformat_minor": 2
}
